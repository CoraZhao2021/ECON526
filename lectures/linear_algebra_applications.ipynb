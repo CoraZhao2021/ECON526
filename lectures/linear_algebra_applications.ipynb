{
  "cells": [
    {
      "cell_type": "markdown",
      "metadata": {},
      "source": [
        "# ECON526: Quantitative Economics with Data Science Applications\n",
        "\n",
        "Applications of Linear Algebra\n",
        "\n",
        "Jesse Perla\n",
        "\n",
        "# Overview\n",
        "\n",
        "## Motivation and Materials\n",
        "\n",
        "-   In this lecture, we will cover some applications of the tools we\n",
        "    developed in the previous lecture\n",
        "\n",
        "-   The goal is to build some useful tools to sharpen your intuition on\n",
        "    linear algebra and eigenvalues/eigenvectors, and practice some basic\n",
        "    coding\n",
        "\n",
        "-   Some additional material and references\n",
        "\n",
        "    -   [QuantEcon\n",
        "        Python](https://python.quantecon.org/linear_algebra.html)\n",
        "    -   [QuantEcon\n",
        "        DataScience](https://datascience.quantecon.org/scientific/applied_linalg.html)\n",
        "    -   [A First Course in Quantitative Economics with\n",
        "        Python](https://intro.quantecon.org/)\n",
        "\n",
        "## Packages\n",
        "\n",
        "This section uses the following packages:"
      ],
      "id": "22760a70-216b-4ecb-88d3-6140920fd582"
    },
    {
      "cell_type": "code",
      "execution_count": 1,
      "metadata": {},
      "outputs": [],
      "source": [
        "import numpy as np\n",
        "import matplotlib.pyplot as plt\n",
        "import scipy\n",
        "from numpy.linalg import cond, matrix_rank, norm\n",
        "from scipy.linalg import inv, solve, det, eig, lu, eigvals\n",
        "from scipy.linalg import solve_triangular, eigvalsh, cholesky\n",
        "from sklearn.decomposition import PCA"
      ],
      "id": "757f4576-5773-4d6d-8493-eb8cd1cf1ed8"
    },
    {
      "cell_type": "markdown",
      "metadata": {},
      "source": [
        "# Difference Equations\n",
        "\n",
        "## Linear Difference Equations as Iterative Maps\n",
        "\n",
        "-   Consider $A : \\mathbb{R}^N \\to \\mathbb{R}^N$ as the linear map for\n",
        "    the state $x_t \\in \\mathbb{R}^N$\n",
        "-   An example of a linear difference equation is $$\n",
        "    x_{t+1} = A x_t\n",
        "    $$ where\n",
        "\n",
        "$$\n",
        "A \\equiv \\begin{bmatrix}\n",
        "0.9 & 0.1 \\\\\n",
        "0.5 & 0.8 \\\\\n",
        "\\end{bmatrix}\n",
        "$$"
      ],
      "id": "faebe834-ff5c-4e2e-93c0-1a5d5f085bae"
    },
    {
      "cell_type": "code",
      "execution_count": 2,
      "metadata": {},
      "outputs": [
        {
          "output_type": "stream",
          "name": "stdout",
          "text": [
            "x_1 = [1.  1.3], x_2 = [1.03 1.54]"
          ]
        }
      ],
      "source": [
        "A = np.array([[0.9, 0.1], [0.5, 0.8]])\n",
        "x_0 = np.array([1, 1])\n",
        "x_1 = A @ x_0\n",
        "print(f\"x_1 = {x_1}, x_2 = {A @ x_1}\")"
      ],
      "id": "e28c502c-118b-42d5-a701-5b67b5be9b11"
    },
    {
      "cell_type": "markdown",
      "metadata": {},
      "source": [
        "## Iterating with $\\rho(A) > 1$\n",
        "\n",
        "Iterate $x_{t+1} = A x_t$ from $x_0$ for $t=100$"
      ],
      "id": "26af7fb9-9753-4cd4-96e9-de91c5ac4ccd"
    },
    {
      "cell_type": "code",
      "execution_count": 3,
      "metadata": {},
      "outputs": [
        {
          "output_type": "stream",
          "name": "stdout",
          "text": [
            "rho(A) = 1.079128784747792\n",
            "x_200 = [3406689.32410673 6102361.18640516]"
          ]
        }
      ],
      "source": [
        "x_0 = np.array([1, 1])\n",
        "t = 200\n",
        "print(f\"rho(A) = {np.max(np.abs(eigvals(A)))}\")\n",
        "print(f\"x_{t} = {np.linalg.matrix_power(A, t) @ x_0}\")"
      ],
      "id": "c30b887e-b61b-4370-8aa4-2af8d5d163ce"
    },
    {
      "cell_type": "markdown",
      "metadata": {},
      "source": [
        "-   Diverges to\n",
        "    $x_{\\infty} = \\begin{bmatrix} \\infty \\\\ \\infty \\end{bmatrix}$\n",
        "-   $\\rho = 1 + 0.079$ says in the worst case (i.e., along that\n",
        "    eigenvector), expands by $7.9\\%$ on each iteration\n",
        "\n",
        "## Iterating with $\\rho(A) < 1$"
      ],
      "id": "a34e98c8-855b-4b28-afa3-54d60cc49c41"
    },
    {
      "cell_type": "code",
      "execution_count": 4,
      "metadata": {},
      "outputs": [
        {
          "output_type": "stream",
          "name": "stdout",
          "text": [
            "rho(A) = 0.9449489742783178\n",
            "x_200 = [6.03450418e-06 2.08159603e-05]"
          ]
        }
      ],
      "source": [
        "A = np.array([[0.6, 0.1], [0.5, 0.8]])\n",
        "print(f\"rho(A) = {np.max(np.abs(eigvals(A)))}\")\n",
        "print(f\"x_{t} = {np.linalg.matrix_power(A, t) @ x_0}\")"
      ],
      "id": "c6c424e1-60f7-47f5-a964-83f4bea93d5f"
    },
    {
      "cell_type": "markdown",
      "metadata": {},
      "source": [
        "-   Converges to $x_{\\infty} = \\begin{bmatrix} 0 \\\\ 0 \\end{bmatrix}$\n",
        "\n",
        "## Iterating with $\\rho(A) = 1$\n",
        "\n",
        "-   To make a matrix that has $\\rho(A) = 1$ reverse eigenvalue\n",
        "    decomposition!\n",
        "-   Leave previous eigenvectors in $Q$, change $\\Lambda$ to force\n",
        "    $\\rho(A)$ directly"
      ],
      "id": "ae124928-e9f8-4241-b973-a2883954653c"
    },
    {
      "cell_type": "code",
      "execution_count": 5,
      "metadata": {},
      "outputs": [
        {
          "output_type": "stream",
          "name": "stdout",
          "text": [
            "orthogonal if dot(x_1, x_2) approx 0?: 0.0\n",
            "rho(A) = 1.0\n",
            "x_200 = [ 0.27639321 -0.17082039]"
          ]
        }
      ],
      "source": [
        "Q = np.array([[-0.85065081, -0.52573111], [0.52573111, -0.85065081]])\n",
        "print(f\"orthogonal if dot(x_1, x_2) approx 0?: {np.dot(Q[:,0], Q[:,1])}\")\n",
        "Lambda = [1.0, 0.8]  # choosing eigenvalue so max_n|lambda_n| = 1\n",
        "A = Q @ np.diag(Lambda) @ inv(Q)\n",
        "print(f\"rho(A) = {np.max(np.abs(eigvals(A)))}\")\n",
        "print(f\"x_{t} = {np.linalg.matrix_power(A, t) @ x_0}\")"
      ],
      "id": "93e40967-0561-4b49-99dd-eadbe2869014"
    },
    {
      "cell_type": "markdown",
      "metadata": {},
      "source": [
        "# Unemployment Dynamics\n",
        "\n",
        "## Dynamics of Employment without Population Growth\n",
        "\n",
        "-   Consider an economy where in a given year $\\alpha = 5\\%$ of employed\n",
        "    workers lose job and $\\phi = 10\\%$ of unemployed workers find a job\n",
        "-   We start with $E_0 = 900,000$ employed workers, $U_0 = 100,000$\n",
        "    unemployed workers, and no birth or death. Dynamics for the year: $$\n",
        "    \\begin{aligned}\n",
        "    E_{t+1} &= (1-\\alpha) E_t + \\phi U_t\\\\\n",
        "    U_{t+1} &= \\alpha E_t + (1-\\phi) U_t\n",
        "    \\end{aligned}\n",
        "    $$\n",
        "-   Can write this as a matrix equation $$\n",
        "    \\underbrace{\\begin{bmatrix} E_{t+1}\\\\U_{t+1}\\end{bmatrix}}_{X_{t+1}} = \\underbrace{\\begin{bmatrix} 1-\\alpha & \\phi \\\\ \\alpha & 1-\\phi \\end{bmatrix}}_{ A} \\underbrace{\\begin{bmatrix} E_{t}\\\\U_{t}\\end{bmatrix}}_{X_t}\n",
        "    $$\n",
        "\n",
        "## Simulating\n",
        "\n",
        "Simulate by iterating $X_{t+1} = A X_t$ from $X_0$ until $T=100$"
      ],
      "id": "35b33e5d-0adc-471f-9fdd-6fcd51a6251b"
    },
    {
      "cell_type": "code",
      "execution_count": 6,
      "metadata": {},
      "outputs": [
        {
          "output_type": "stream",
          "name": "stdout",
          "text": [
            "X_100 = [666666.6870779  333333.31292209]"
          ]
        }
      ],
      "source": [
        "def simulate(A, X_0, T):\n",
        "    X = np.zeros((2, T+1))\n",
        "    X[:,0] = X_0\n",
        "    for t in range(T):\n",
        "        X[:,t+1] = A @ X[:,t]\n",
        "    return X\n",
        "X_0 = np.array([900000, 100000])\n",
        "A = np.array([[0.95, 0.1], [0.05, 0.9]])\n",
        "T = 100\n",
        "X = simulate(A, X_0, T)\n",
        "print(f\"X_{T} = {X[:,T]}\")"
      ],
      "id": "c2e70411-1a7c-4a2a-8701-bbe6604696a6"
    },
    {
      "cell_type": "markdown",
      "metadata": {},
      "source": [
        "## Plotting Code"
      ],
      "id": "1ec814b8-2419-43af-8b4a-a660fce7c7c8"
    },
    {
      "cell_type": "code",
      "execution_count": 7,
      "metadata": {},
      "outputs": [],
      "source": [
        "fig, ax = plt.subplots(figsize=(6, 4))\n",
        "ax.plot(range(T+1), X.T, label=[\"Employed\", \"Unemployed\"])\n",
        "ax.set(xlabel=\"t\", ylabel=\"Number of Workers\", title=\"Employment Status\")\n",
        "ax.legend()\n",
        "plt.show()"
      ],
      "id": "ebcf2da0-65e6-44f7-8530-e74a477e4969"
    },
    {
      "cell_type": "markdown",
      "metadata": {},
      "source": [
        "## Dynamics of Unemployment"
      ],
      "id": "1de67012-51f8-449e-8bf2-24eb21f927b5"
    },
    {
      "cell_type": "code",
      "execution_count": 8,
      "metadata": {},
      "outputs": [
        {
          "output_type": "display_data",
          "metadata": {},
          "data": {
            "image/png": "[encoded data removed]"
          }
        }
      ],
      "source": [
        "fig, ax = plt.subplots(figsize=(6, 4))\n",
        "ax.plot(range(T+1), X.T, label=[\"Employed\", \"Unemployed\"])\n",
        "ax.set(xlabel=\"t\", ylabel=\"Number of Workers\", title=\"Employment Status\")\n",
        "ax.legend()\n",
        "plt.show()"
      ],
      "id": "9c1faf61-f35f-437f-ba6b-7ffd308a3311"
    },
    {
      "cell_type": "markdown",
      "metadata": {},
      "source": [
        "## Convergence to a Longrun Distribution\n",
        "\n",
        "-   Find $X_{\\infty}$ by iterating $X_{t+1} = A X_t$ many times from a\n",
        "    $X_0$?\n",
        "\n",
        "    -   Check if it has converged with $X_{\\infty} \\approx A X_{\\infty}$\n",
        "    -   Is $X_{\\infty}$ the same from any $X_0$? Will discuss\n",
        "        “ergodicity” later\n",
        "\n",
        "-   Alternatively, note that this expression is the same as\n",
        "\n",
        "    $$\n",
        "    1 \\times \\bar{X} = A \\bar{X}\n",
        "    $$\n",
        "\n",
        "    -   i.e, a $\\lambda = 1$ with $\\bar{X}$ is the corresponding\n",
        "        eigenvector of $A$!\n",
        "    -   Is $\\lambda = 1$ always an eigenvalue? (yes if all\n",
        "        $\\sum_{n=1}^N A_{ni} = 1$ for all $i$)\n",
        "    -   Does $\\bar{X} = X_{\\infty}$? Maybe?\n",
        "    -   Multiple eigenvalues with $\\lambda = 1 \\implies$ multiple\n",
        "        $\\bar{X}$\n",
        "\n",
        "## Using the First Eigenvector for the Steady State"
      ],
      "id": "99f2d9e6-2f9a-45bd-83c3-bc3201133183"
    },
    {
      "cell_type": "code",
      "execution_count": 9,
      "metadata": {},
      "outputs": [
        {
          "output_type": "stream",
          "name": "stdout",
          "text": [
            "real eigenvalues = [1.   0.85]\n",
            "eigenvectors are column-by-column in Q =\n",
            "[[ 0.89442719 -0.70710678]\n",
            " [ 0.4472136   0.70710678]]\n",
            "first eigenvalue = 1? True\n",
            "X_bar = [666666.66666667 333333.33333333]\n",
            "X_100 = [666666.6870779  333333.31292209]"
          ]
        }
      ],
      "source": [
        "Lambda, Q = eig(A)\n",
        "print(f\"real eigenvalues = {np.real(Lambda)}\")\n",
        "print(f\"eigenvectors are column-by-column in Q =\\n{Q}\")\n",
        "print(f\"first eigenvalue = 1? {np.isclose(Lambda[0], 1.0)}\")\n",
        "X_bar = Q[:,0] / np.sum(Q[:,0]) * np.sum(X_0)\n",
        "print(f\"X_bar = {X_bar}\\nX_{T} = {X[:,T]}\")"
      ],
      "id": "1f8ad9ab-b2bb-4bb5-8841-cd1c43f4ec32"
    },
    {
      "cell_type": "markdown",
      "metadata": {},
      "source": [
        "## Using the Second Eigenvalue for the Convergence Speed\n",
        "\n",
        "-   The second largest ($\\lambda_2 < 1$) provides information on the\n",
        "    speed of convergence\n",
        "    -   Closer to $0$ means faster convergence\n",
        "    -   Closer to $1$ means slower convergence\n",
        "-   Create a new matrix with the same steady state, different speed"
      ],
      "id": "cec87bc3-d8cd-47f1-a6a2-172409172ef3"
    },
    {
      "cell_type": "code",
      "execution_count": 10,
      "metadata": {},
      "outputs": [
        {
          "output_type": "stream",
          "name": "stdout",
          "text": [
            "X_100 = [666666.66666667 333333.33333333]"
          ]
        }
      ],
      "source": [
        "Lambda_fast = np.array([1.0, 0.5])\n",
        "A_fast = Q @ np.diag(Lambda_fast) @ inv(Q) # same eigenvectors\n",
        "X_fast = simulate(A_fast, X_0, T)\n",
        "print(f\"X_{T} = {X_fast[:,T]}\")"
      ],
      "id": "f67ce7ef-9c01-4206-889f-ef7a87720b35"
    },
    {
      "cell_type": "markdown",
      "metadata": {},
      "source": [
        "## Dynamics of Unemployment For Difference Convergence Speeds"
      ],
      "id": "5f7b274b-ae38-4359-9300-636d2f179ef3"
    },
    {
      "cell_type": "code",
      "execution_count": 11,
      "metadata": {},
      "outputs": [
        {
          "output_type": "display_data",
          "metadata": {},
          "data": {
            "image/png": "[encoded data removed]"
          }
        }
      ],
      "source": [
        "lambda_2_old = np.real(Lambda[1])\n",
        "lambda_2_new = Lambda_fast[1]\n",
        "fig, ax = plt.subplots(figsize=(6, 4))\n",
        "ax.plot(range(T+1), X.T, label=[rf\"Employed$(\\lambda_2={lambda_2_old})$\", rf\"Unemployed$(\\lambda_2={lambda_2_old})$\"])\n",
        "ax.plot(range(T+1), X_fast.T, label=[rf\"Employed$(\\lambda_2={lambda_2_new})$\", rf\"Unemployed$(\\lambda_2={lambda_2_new})$\"])\n",
        "ax.set(xlabel=\"t\", ylabel=\"Number of Workers\", title=\"Employment Status\")\n",
        "ax.legend()\n",
        "plt.show()"
      ],
      "id": "c66bc754-c39b-4ae7-8da7-fc22ad7f3c0a"
    },
    {
      "cell_type": "markdown",
      "metadata": {},
      "source": [
        "# Latent Variables\n",
        "\n",
        "## Features, Labels, and Latents\n",
        "\n",
        "-   Data science and machine learning often use different terminology\n",
        "    than economists:\n",
        "    -   **Features** are economists **explanatory or independent\n",
        "        variables**. They have the key variation, which helps you make\n",
        "        predictions and counterfactuals.\n",
        "    -   **Labels** correspond to economists **observables or dependent\n",
        "        variables**\n",
        "    -   **Latent Variables** are **unobserved variables**, typically\n",
        "        sources of heterogeneity or which may drive both the dependent\n",
        "        and independent variables\n",
        "-   Economists will use theory and experience to transform data (i.e.,\n",
        "    what ML people call “feature engineering”) for better explanatory\n",
        "    power or map to theoretical models\n",
        "-   Latent variables are central, and statistics (coupled with\n",
        "    assumptions from economic theory) are used to uncover them.\n",
        "\n",
        "## Principle Components and Factor Analysis\n",
        "\n",
        "-   Another application of eigenvalues is dimension reduction, which\n",
        "    simplifies “features” by uncovering “latents.” One technique is\n",
        "    Principle Components Analysis (PCA)\n",
        "-   PCA uncovers latent variables that capture the primary directions of\n",
        "    variation in the data\n",
        "    -   May allow you to map your data into a lower-dimensional,\n",
        "        uncorrelated set of “features.”\n",
        "    -   You may see this connected to Singular Value Decomposition\n",
        "        (SVD), which is a generalization of eigenvalue decomposition to\n",
        "        non-square matrices but is more numerically stable\n",
        "    -   One of many methods. Many algorithms in ML and econometrics have\n",
        "        similar goals but can be non-linear\n",
        "-   Given a matrix $X \\in \\mathbb{R}^{N \\times M}$, we can find a\n",
        "    lower-dimensional representation $Z \\in \\mathbb{R}^{N \\times L}$ for\n",
        "    $L < M$ that captures the most variation in $X$\n",
        "-   The columns of $Z$ are called the principle components of $X$\n",
        "-   The goal is to invert the $X$ data to find the $Z$—and provide a\n",
        "    mapping to reduce the dimensionality for future data\n",
        "-   See [QuantEcon SVD\n",
        "    Notes](https://python.quantecon.org/svd_intro.html#application-principal-components-analysis-pca)\n",
        "    for more details and references to applications\n",
        "\n",
        "## Decomposing the Data\n",
        "\n",
        "PCA typically uses SVD in practice - but here, we will use eigenvector\n",
        "decomposition instead\n",
        "\n",
        "Start by doing a decomposition of the “covariance matrix” of the data,\n",
        "$X X^T$, form diagonal $\\Lambda$ as a product of vectors $\\sigma$ (the\n",
        "singular values)\n",
        "\n",
        "$$\n",
        "X X^T = Q \\Lambda Q^T = Q \\sigma \\sigma^T Q^T,\\quad \\text{where } \\Lambda \\equiv \\sigma \\sigma^T\n",
        "$$\n",
        "\n",
        "Hence, denoting the $n$th column of $Q$ as $Q_n$, we have\n",
        "\n",
        "$$\n",
        "X = Q \\sigma = Q_1 \\sigma_1 + Q_2 \\sigma_2 + \\ldots + Q_M \\sigma_M\n",
        "$$\n",
        "\n",
        "## Dimension Reduction\n",
        "\n",
        "-   Assume we sorted so\n",
        "    $\\sigma_1 \\geq \\sigma_2 \\geq \\ldots \\geq \\sigma_M$. Frequently\n",
        "    $\\sigma_1 \\gg \\sigma_M$\n",
        "-   For many problems, the $\\sigma_m$ decay quickly, so we can\n",
        "    approximate $X$ with fewer terms by truncating the sum at $L < M$.\n",
        "\n",
        "$$\n",
        "X \\approx Q_1 \\sigma_1 + Q_2 \\sigma_2 + \\ldots + Q_L \\sigma_L\n",
        "$$\n",
        "\n",
        "-   The eigenvector (or SVD) decomposition can find the orthogonal\n",
        "    directions of the data that capture the most variation in the\n",
        "    covariance matrix\n",
        "    -   Can prove it is the solution to the optimization problem to\n",
        "        explain the most variation in the data with the lowest\n",
        "        dimensionality\n",
        "-   This is useful even if it is not necessary to reduce the\n",
        "    dimensionality of the data\n",
        "    -   Many high-dimensional data sources are low-dimensional in the\n",
        "        suitable space.\n",
        "    -   This is especially true when models allow for nonlinear\n",
        "        transformations (e.g., neural networks, autoencoders, etc.)\n",
        "\n",
        "## Creating a Dataset with Latent Factors\n",
        "\n",
        "Create a dataset with two latent factors, the first dominating"
      ],
      "id": "79b13680-b49c-4c53-b7c9-eea47bcf78b2"
    },
    {
      "cell_type": "code",
      "execution_count": 12,
      "metadata": {},
      "outputs": [],
      "source": [
        "N = 50 # number of observations\n",
        "L, M = 2, 3 # number of latent and observed factors\n",
        "Z = np.random.randn(N, L) # latent factors\n",
        "F = np.array([[1.0, 0.05], # X_1 = Z_1 + 0.05 Z_2\n",
        "              [2.0, 0.0], # X_2 = 2 Z_1\n",
        "              [3.0, 0.1]]) # X_3 = 3 Z_1 + 0.1 Z_2\n",
        "X = Z @ F.T + 0.1 * np.random.randn(N, M) # added noise"
      ],
      "id": "32d532bc-d098-4b11-9772-ef302aa661ae"
    },
    {
      "cell_type": "markdown",
      "metadata": {},
      "source": [
        "## PCA without any Dimension Reduction\n",
        "\n",
        "-   See [QuantEcon SVD](https://python.quantecon.org/svd_intro.html) for\n",
        "    coding yourself. We will use the\n",
        "    [sklearn](https://scikit-learn.org/stable/modules/generated/sklearn.decomposition.PCA.html)\n",
        "    package\n",
        "-   The explained variance is the fraction of the variance explained by\n",
        "    each factor"
      ],
      "id": "31b4ac66-921d-429c-8b88-0a0e2b4d78bb"
    },
    {
      "cell_type": "code",
      "execution_count": 13,
      "metadata": {},
      "outputs": [
        {
          "output_type": "stream",
          "name": "stdout",
          "text": [
            "Singular Values (sqrt eigenvalues):\n",
            "[24.602   0.8723  0.7058]\n",
            "Explained Variance (ordered):\n",
            "[0.9979 0.0013 0.0008]"
          ]
        }
      ],
      "source": [
        "pca = PCA(n_components=3)\n",
        "pca.fit(X)\n",
        "with np.printoptions(precision=4, suppress=True, threshold=5):\n",
        "  print(f\"Singular Values (sqrt eigenvalues):\\n{pca.singular_values_}\")\n",
        "  print(f\"Explained Variance (ordered):\\n{pca.explained_variance_ratio_}\")"
      ],
      "id": "883e9929-65a0-46b7-924a-983e8b8484a6"
    },
    {
      "cell_type": "markdown",
      "metadata": {},
      "source": [
        "## Dimension Reduction with PCA"
      ],
      "id": "63e01e47-a6d2-42ea-916f-fc4eb9f58f3d"
    },
    {
      "cell_type": "code",
      "execution_count": 14,
      "metadata": {},
      "outputs": [
        {
          "output_type": "stream",
          "name": "stdout",
          "text": [
            "Correlation of Z_1 to Z_hat_1 = -0.9991070106042226\n",
            "Correlation of Z_2 to Z_hat_2 = 0.5157221622294763"
          ]
        }
      ],
      "source": [
        "pca = PCA(n_components=2) # one less, and correctly specified\n",
        "Z_hat = pca.fit_transform(X) # transformed by dropping last factor \n",
        "# Scale and sign may not match due to indeterminacy\n",
        "print(f\"Correlation of Z_1 to Z_hat_1 = {np.corrcoef(Z.T, Z_hat.T)[0,2]}\")\n",
        "print(f\"Correlation of Z_2 to Z_hat_2 = {np.corrcoef(Z.T, Z_hat.T)[1,3]}\")"
      ],
      "id": "ac92ea94-7b3f-463b-bfa1-eb7aa8be5dde"
    },
    {
      "cell_type": "markdown",
      "metadata": {},
      "source": [
        "## Interpreting the Results\n",
        "\n",
        "-   The first factor in the decomposition is nearly perfectly (positive\n",
        "    or negatively) correlated with the more important latent factor\n",
        "    -   The sign could have gone either way. The key is the shared\n",
        "        information\n",
        "    -   How could you have known the sign is indeterminate?\n",
        "-   The 2nd factor has a good but not great correlation with the 2nd\n",
        "    latent. Why?\n",
        "-   The variance decomposition that gave a 3rd factor with non-zero\n",
        "    variance\n",
        "    -   In our process, there are only two latent variables. Why didn’t\n",
        "        it figure it out?\n",
        "-   How could you have changed the DGP to make this **less** successful?\n",
        "\n",
        "# Present Discounted Values\n",
        "\n",
        "## Geometric Series\n",
        "\n",
        "-   Assume dividends follow $y_{t+1} = G y_t$ for $t=0,1,\\ldots$ and\n",
        "    $y_0$ is given\n",
        "\n",
        "-   $G > 0$, dividends are discounted at factor $\\beta > 1$ then\n",
        "    $p_t = \\sum_{s=0}^{\\infty} \\beta^s y_{t+s} = \\frac{y_t}{1-\\beta G}$\n",
        "\n",
        "-   More generally if $x_{t+1} = A x_t$, $x_t \\in \\mathbb{R}^N$,\n",
        "    $y_t = G x_t$ and $A \\in \\mathbb{R}^{N \\times N}$, then\n",
        "\n",
        "    $$\n",
        "    \\begin{aligned}\n",
        "    p_t &= y_0 + \\beta y_1 + \\beta^2 y_2 + \\ldots = G x_0 + \\beta A x_0 + \\beta A x_1\\\\\n",
        "    &= \\sum_{s=0}^{\\infty} \\beta^s A^s y_t\\\\\n",
        "    &= G (I - \\beta A)^{-1} x_t\\quad,\\text{ if } \\rho(A) < 1/\\beta\n",
        "    \\end{aligned}\n",
        "    $$\n",
        "\n",
        "-   i.e., spectral radius of $A$ less than discounting\n",
        "\n",
        "-   Intuition from univariate: of $G \\in \\mathbb{R}^{1 \\times 1}$ then\n",
        "    $\\text{eig}(G) = G$, so must have $|\\beta G| < 1$\n",
        "\n",
        "## PDV Example\n",
        "\n",
        "Here is an example with $1 < \\rho(A) < 1/\\beta$. Try different $A$"
      ],
      "id": "15ffbe86-6fb7-49cb-88e9-9aa723a59c18"
    },
    {
      "cell_type": "code",
      "execution_count": 15,
      "metadata": {},
      "outputs": [
        {
          "output_type": "stream",
          "name": "stdout",
          "text": [
            "p_t = 24.43, spectral radius = 1.019, 1/beta = 1.111"
          ]
        }
      ],
      "source": [
        "beta = 0.9\n",
        "A = np.array([[0.85, 0.1], [0.2, 0.9]])\n",
        "G = np.array([[1.0, 1.0]]) # row vector\n",
        "x_0 = np.array([1.0, 1.0])\n",
        "p_t = G @ solve(np.eye(2) - beta * A, x_0)\n",
        "#p_t = G @ inv(np.eye(2) - beta * A) @ x_0 # alternative\n",
        "rho_A = np.max(np.abs(np.real(eigvals(A))))\n",
        "print(f\"p_t = {p_t[0]:.4g}, spectral radius = {rho_A:.4g}, 1/beta = {1/beta:.4g}\")"
      ],
      "id": "33fe85eb-ea78-4502-8969-2d4ea9281930"
    },
    {
      "cell_type": "markdown",
      "metadata": {},
      "source": [
        "## A Portfolio Example\n",
        "\n",
        "-   Two assets pay dividends\n",
        "    $d_t \\equiv \\begin{bmatrix} d_{1t} & d_{2t} \\end{bmatrix}^T$\n",
        "    following $d_{t+1} = A\\, d_t$ from $d_0$\n",
        "-   Porfolio has $G \\equiv \\begin{bmatrix} G_1 & G_2 \\end{bmatrix}$\n",
        "    shares of each asset and you discount at rate $\\beta$"
      ],
      "id": "097c8669-ed7d-43bc-b476-dcd54a1df0fd"
    },
    {
      "cell_type": "code",
      "execution_count": 16,
      "metadata": {},
      "outputs": [
        {
          "output_type": "stream",
          "name": "stdout",
          "text": [
            "Portfolio value at t=0 is 1424.5, total dividends at time 10 is 36.955"
          ]
        }
      ],
      "source": [
        "A = np.array([[0.6619469, 0.49646018],[0.5840708, 0.4380531]])\n",
        "G = np.array([[10.0, 4.0]])       \n",
        "d_0 = np.array([1.0, 1.0])\n",
        "T, beta = 10, 0.9\n",
        "p_0 = G @ solve(np.eye(2) - beta * A, d_0)\n",
        "d = simulate(A, d_0, T)\n",
        "y = G @ d # total dividends from portfolio\n",
        "print(f\"Portfolio value at t=0 is {p_0[0]:.5g}, total dividends at time {T} is {y[0,T]:.5g}\")"
      ],
      "id": "02b90f49-4889-43b4-b37a-f1828ff7b1c4"
    },
    {
      "cell_type": "markdown",
      "metadata": {},
      "source": [
        "## Dividends Seem to Grow at a Similar Rate?"
      ],
      "id": "9e254e33-f0c9-4d4a-bbd2-783ca78fa9ab"
    },
    {
      "cell_type": "code",
      "execution_count": 17,
      "metadata": {},
      "outputs": [
        {
          "output_type": "display_data",
          "metadata": {},
          "data": {
            "image/png": "[encoded data removed]"
          }
        }
      ],
      "source": [
        "fig, ax = plt.subplots(figsize=(6, 4))\n",
        "ax.plot(range(T+1), d.T, label=[r\"$d_{1t}$\", r\"$d_{2t}$\"])\n",
        "ax.set(xlabel=\"t\", title=\"Dividend Simulation\")\n",
        "ax.legend()\n",
        "plt.show()"
      ],
      "id": "c7066e80-370e-4821-93d3-acb2ba33c6b0"
    },
    {
      "cell_type": "markdown",
      "metadata": {},
      "source": [
        "## Digging Deeper\n",
        "\n",
        "-   Let’s do an eigenvector decomposition to analyze the factors"
      ],
      "id": "de89ea28-57df-4808-af14-3af94b46e83e"
    },
    {
      "cell_type": "code",
      "execution_count": 18,
      "metadata": {},
      "outputs": [
        {
          "output_type": "stream",
          "name": "stdout",
          "text": [
            "[ 1.10000000e+00 -2.65486733e-09]"
          ]
        }
      ],
      "source": [
        "Lambda, Q = eig(A)\n",
        "print(np.real(Lambda))"
      ],
      "id": "7b4f7a35-c289-4904-80a1-bbd00c0bd50c"
    },
    {
      "cell_type": "markdown",
      "metadata": {},
      "source": [
        "-   The first eigenvector is 1.1, but the second is (numerically) zero!\n",
        "    -   (In fact, I rigged it to be zero by constructing from a\n",
        "        $\\Lambda$, so this is all numerical copy/paste errors)\n",
        "-   Hints that maybe only one latent factor driving both $d_{1t}$ and\n",
        "    $d_{2t}$?\n",
        "\n",
        "## Evolution Matrix is Very Simple with $\\lambda_2 = 0$\n",
        "\n",
        "If we stack columns $Q \\equiv \\begin {bmatrix} q_1 & q_2 \\end{bmatrix}$\n",
        "then, $$\n",
        "A = Q \\Lambda Q^{-1} = Q \\begin{bmatrix} \\lambda_1 & 0 \\\\ 0 & 0 \\end{bmatrix} Q^{-1} = \\lambda_1 q_1  q_1^{-1}\n",
        "$$"
      ],
      "id": "d47ed87f-4d0f-46fc-96c9-b157d0ac8776"
    },
    {
      "cell_type": "code",
      "execution_count": 19,
      "metadata": {},
      "outputs": [
        {
          "output_type": "display_data",
          "metadata": {},
          "data": {
            "text/plain": [
              "2.663274500543771e-09"
            ]
          }
        }
      ],
      "source": [
        "lambda_1 = np.real(Lambda[0])\n",
        "q_1 = np.reshape(Q[:,0], (2,1))\n",
        "q_1_inv = np.reshape(inv(Q)[0,:], (1,2))\n",
        "norm(A - lambda_1 * q_1 @ q_1_inv) # pretty close to zero!"
      ],
      "id": "9d2c6192-0091-435f-90d7-3a1bf951fb90"
    },
    {
      "cell_type": "markdown",
      "metadata": {},
      "source": [
        "## Transforming to the Latent State\n",
        "\n",
        "-   Recall: $A = Q \\Lambda Q^{-1}$ can be interpreted as:\n",
        "    -   Transformation to latent space, scaling, transform back\n",
        "-   We can demonstrate this in our example:\n",
        "    -   Transforming $d_0$ to $\\ell_0$ using $q_1^{-1}$\n",
        "    -   Evolving $\\ell_t$ from $\\ell_0$ with\n",
        "        $\\ell_{t+1} = \\lambda_1 \\ell_t$, or\n",
        "        $\\ell_t = \\lambda_1^t \\ell_0$\n",
        "    -   Transforming back with $q_1$\n",
        "    -   Checking if it aligns with the $d_t$\n",
        "\n",
        "## Implementation"
      ],
      "id": "329434dc-a68e-4b58-a39d-1d5d23819198"
    },
    {
      "cell_type": "code",
      "execution_count": 20,
      "metadata": {},
      "outputs": [
        {
          "output_type": "stream",
          "name": "stdout",
          "text": [
            "norm = 2.3494410875961204e-10"
          ]
        }
      ],
      "source": [
        "l_0 = lambda_1 * q_1_inv @ d_0 # latent space\n",
        "l = l_0 * np.power(lambda_1, np.arange(0, T)) # powers\n",
        "d_hat = q_1 * l # back to original space\n",
        "# Missing d_0 since doing A * d_0 iterations\n",
        "print(f\"norm = {norm(d[:,1:] - d_hat)}\")\n",
        "y_hat = G @ d_hat"
      ],
      "id": "a7f5ebb6-b3f6-4671-856b-eebcbe322845"
    },
    {
      "cell_type": "markdown",
      "metadata": {},
      "source": [
        "Let’s see if these line up perfectly\n",
        "\n",
        "## Total Dividends and the Latent Variable"
      ],
      "id": "a6e576c8-db97-4c5a-8966-2f9b56b3bfcc"
    },
    {
      "cell_type": "code",
      "execution_count": 21,
      "metadata": {},
      "outputs": [
        {
          "output_type": "display_data",
          "metadata": {},
          "data": {
            "image/png": "[encoded data removed]"
          }
        }
      ],
      "source": [
        "fig, ax = plt.subplots(figsize=(6, 4))\n",
        "data = np.vstack((y_hat / y_hat[:,0], l / l[0]))\n",
        "ax.plot(range(1, T+1), data.T, label=[r\"$\\frac{y_t}{y_1}$\", r\"$\\frac{\\ell_t}{\\ell_1}$\"])\n",
        "ax.set(xlabel=\"t\", title=\"Latents vs. Total Dividends\")\n",
        "ax.legend()\n",
        "plt.show()"
      ],
      "id": "cff8e2d4-b9b9-47a2-898c-6763b7f7fa60"
    },
    {
      "cell_type": "markdown",
      "metadata": {},
      "source": [
        "# Matrix Conditioning and Stability\n",
        "\n",
        "## Matrix Conditioning\n",
        "\n",
        "-   Poorly conditioned matrices can lead to inaccurate or wrong\n",
        "    solutions\n",
        "-   Tends to happen when matrices are close to singular or when they\n",
        "    have very different scales - so there will be times when you need to\n",
        "    rescale your problems"
      ],
      "id": "dbeab0c6-cfc1-4052-87b6-922716e560af"
    },
    {
      "cell_type": "code",
      "execution_count": 22,
      "metadata": {},
      "outputs": [
        {
          "output_type": "stream",
          "name": "stdout",
          "text": [
            "A =\n",
            "[[1.        1.       ]\n",
            " [1.0000001 1.       ]]\n",
            "A^-1 =\n",
            "[[-9999999.99336215  9999999.99336215]\n",
            " [10000000.99336215 -9999999.99336215]]"
          ]
        }
      ],
      "source": [
        "eps = 1e-7\n",
        "A = np.array([[1, 1], [1 + eps, 1]])\n",
        "print(f\"A =\\n{A}\")\n",
        "print(f\"A^{-1} =\\n{inv(A)}\")"
      ],
      "id": "e43f832d-d450-49d5-b287-4502f3997bb7"
    },
    {
      "cell_type": "markdown",
      "metadata": {},
      "source": [
        "## Condition Numbers of Matrices\n",
        "\n",
        "-   $\\det(A) \\approx 0$ may say it is “almost” singular, but it is not\n",
        "    scale-invariant\n",
        "-   $\\text{cond}(A) \\equiv ||A|| \\cdot ||A^{-1}||$ where $||\\cdot||$ is\n",
        "    the matrix norm - expensive to calculate in practice. Connected to\n",
        "    eigenvalues $\\text{cond}(A) = |\\frac{\\lambda_{max}}{\\lambda_{min}}|$\n",
        "-   Scale free measure of numerical issues for a variety of matrix\n",
        "    operations\n",
        "-   Intuition: if $\\text{cond}(A) = K$, then $b \\to b + \\nabla b$ change\n",
        "    in $b$ amplifies to a $x \\to x + K \\nabla b$ error when solving\n",
        "    $A x = b$.\n",
        "-   See [Matlab Docs on\n",
        "    inv](https://www.mathworks.com/help/matlab/ref/inv.html#bu6sfy8-1)\n",
        "    for example, where `inv` is a bad idea due to poor conditioning"
      ],
      "id": "690898e5-4ac4-4999-99ea-6aab73e1f4bc"
    },
    {
      "cell_type": "code",
      "execution_count": 23,
      "metadata": {},
      "outputs": [
        {
          "output_type": "stream",
          "name": "stdout",
          "text": [
            "condition(I) = 1.0\n",
            "condition(A) = 40000001.962777555, condition(A^(-1)) = 40000002.02779216"
          ]
        }
      ],
      "source": [
        "print(f\"condition(I) = {cond(np.eye(2))}\")\n",
        "print(f\"condition(A) = {cond(A)}, condition(A^(-1)) = {cond(inv(A))}\")"
      ],
      "id": "37154e8f-3be9-45a3-a7e7-5305c833009a"
    },
    {
      "cell_type": "markdown",
      "metadata": {},
      "source": [
        "## Example with Interpolation\n",
        "\n",
        "-   Consider fitting data $x\\in\\mathbb{R}^{N+1}$ and\n",
        "    $y\\in\\mathbb{R}^{N+1}$ with an $N$-degree polynomial\n",
        "-   That is, find $c \\in \\mathbb{R}^{N+1}$ such that\n",
        "\n",
        "$$\n",
        "\\begin{aligned}\n",
        "c_0 + c_1 x_1 + c_2 x_1^2 + \\ldots + c_N x_1^N &= y_1\\\\\n",
        "\\dots &= \\dots\\\\\n",
        "c_0 + c_1 x_N + c_2 x_N^2 + \\ldots + c_N x_N^N &= y_N\\\\\n",
        "\\end{aligned}\n",
        "$$\n",
        "\n",
        "-   Which we can then use as $P(x) = \\sum_{n=0}^N c_n x^n$ to\n",
        "    interpolate between the points\n",
        "\n",
        "## Writing as a Linear System\n",
        "\n",
        "-   Define a matrix of all of the powers of the $x$ values\n",
        "\n",
        "$$\n",
        "A \\equiv \\begin{bmatrix}\n",
        "1 & x_0 & x_0^2 & \\ldots & x_0^N\\\\\n",
        "\\vdots & \\vdots &\\vdots & \\vdots & \\vdots\\\\\n",
        "1 & x_N & x_N^2 & \\ldots & x_N^N\n",
        "\\end{bmatrix}\n",
        "$$\n",
        "\n",
        "-   Then solve for $c$ as the solution to,\n",
        "\n",
        "$$\n",
        "A c = y\n",
        "$$\n",
        "\n",
        "-   Which we can solve using our tools. As long as $x_n$ are unique, it\n",
        "    is $A$ is invertible\n",
        "-   Let’s look at the numerical error here from the interpolation using\n",
        "    the inf-norm, i.e., $||x||_{\\infty} = \\max_n |x_n|$\n",
        "\n",
        "## Solving an Example"
      ],
      "id": "b0ee584b-7a8d-4a25-9235-5ff2b65ad471"
    },
    {
      "cell_type": "code",
      "execution_count": 24,
      "metadata": {},
      "outputs": [
        {
          "output_type": "stream",
          "name": "stdout",
          "text": [
            "error = 1.574562702444382e-11, error using inv(A) = 1.1932570487260818e-09\n",
            "cond(A) = 564652.3214000753"
          ]
        }
      ],
      "source": [
        "N = 5\n",
        "x = np.linspace(0.0, 10.0, N + 1)\n",
        "y = np.exp(x)  # example function to interpolate\n",
        "A = np.array([[x_i**n for n in range(N + 1)] for x_i in x])  # or np.vander\n",
        "c = solve(A, y)\n",
        "c_inv = inv(A) @ y\n",
        "print(f\"error = {norm(A @ c - y, np.inf)}, \\\n",
        "error using inv(A) = {norm(A @ c_inv - y, np.inf)}\")\n",
        "print(f\"cond(A) = {cond(A)}\")"
      ],
      "id": "e5d16448-46c4-4b13-84e8-d8bb140b06c0"
    },
    {
      "cell_type": "markdown",
      "metadata": {},
      "source": [
        "## Things Getting Poorly Conditioned Quickly"
      ],
      "id": "b03fe7ee-4fe6-4f08-b211-b75f1f1a5322"
    },
    {
      "cell_type": "code",
      "execution_count": 25,
      "metadata": {},
      "outputs": [
        {
          "output_type": "stream",
          "name": "stdout",
          "text": [
            "error = 5.334186425898224e-10, error using inv(A) = 6.22717197984457e-06\n",
            "cond(A) = 4462824600234.486"
          ]
        }
      ],
      "source": [
        "N = 10\n",
        "x = np.linspace(0.0, 10.0, N + 1)\n",
        "y = np.exp(x)  # example function to interpolate\n",
        "A = np.array([[x_i**n for n in range(N + 1)] for x_i in x])  # or np.vander\n",
        "c = solve(A, y)\n",
        "c_inv = inv(A) @ y # Solving with inv(A) instead of solve(A, y)\n",
        "print(f\"error = {norm(A @ c - y, np.inf)}, \\\n",
        "error using inv(A) = {norm(A @ c_inv - y, np.inf)}\")\n",
        "print(f\"cond(A) = {cond(A)}\")"
      ],
      "id": "ae4c578a-c507-4a37-86d8-4051f0478361"
    },
    {
      "cell_type": "markdown",
      "metadata": {},
      "source": [
        "## Matrix Inverses Fail Completely for $N = 20$"
      ],
      "id": "ba775704-7dcc-412e-ba3f-b00601dbe7a6"
    },
    {
      "cell_type": "code",
      "execution_count": 26,
      "metadata": {},
      "outputs": [
        {
          "output_type": "stream",
          "name": "stdout",
          "text": [
            "error = 6.784830475226045e-10, error using inv(A) = 31732.823760853855\n",
            "cond(A) = 1.697e+24"
          ]
        },
        {
          "output_type": "stream",
          "name": "stderr",
          "text": [
            "C:\\Users\\jesse\\AppData\\Local\\Temp\\ipykernel_30420\\1043797195.py:5: LinAlgWarning:\n",
            "\n",
            "Ill-conditioned matrix (rcond=6.45105e-28): result may not be accurate.\n"
          ]
        }
      ],
      "source": [
        "N = 20\n",
        "x = np.linspace(0.0, 10.0, N + 1)\n",
        "y = np.exp(x)  # example function to interpolate\n",
        "A = np.array([[x_i**n for n in range(N + 1)] for x_i in x])  # or np.vander\n",
        "c = solve(A, y)\n",
        "c_inv = inv(A) @ y # Solving with inv(A) instead of solve(A, y)\n",
        "print(f\"error = {norm(A @ c - y, np.inf)}, \\\n",
        "error using inv(A) = {norm(A @ c_inv - y, np.inf)}\")\n",
        "print(f\"cond(A) = {cond(A):.4g}\")"
      ],
      "id": "606c1ec7-b594-4110-9482-915d41658114"
    },
    {
      "cell_type": "markdown",
      "metadata": {},
      "source": [
        "## Moral of this Story\n",
        "\n",
        "-   Use `solve`, which is faster and can often solve ill-conditioned\n",
        "    problems. Rarely `inv`\n",
        "-   Check conditioning of matrices when doing numerical work, as it is a\n",
        "    good indicator of potential problems and collinearity\n",
        "-   For approximation, never use a monomial basis for polynomials\n",
        "    -   Prefer polynomials like Chebyshev, which are designed to be as\n",
        "        orthogonal as possible"
      ],
      "id": "979316c2-add3-46b6-8193-205c86d7df9d"
    },
    {
      "cell_type": "code",
      "execution_count": 27,
      "metadata": {},
      "outputs": [
        {
          "output_type": "stream",
          "name": "stdout",
          "text": [
            "cond(A) = 3.64e+09, cond(A_monimial) = 2.926e+18"
          ]
        }
      ],
      "source": [
        "N = 40\n",
        "x = np.linspace(-1, 1, N+1)  # Or any other range of x values\n",
        "A = np.array([[np.polynomial.Chebyshev.basis(n)(x_i) for n in range(N+1)] for x_i in x])\n",
        "A_monomial = np.array([[x_i**n for n in range(N + 1)] for x_i in x])  # or np.vander\n",
        "print(f\"cond(A) = {cond(A):.4g}, cond(A_monimial) = {cond(A_monomial):.4g}\")"
      ],
      "id": "01c16ac5-a133-4e61-b5e0-770caac1f2d4"
    }
  ],
  "nbformat": 4,
  "nbformat_minor": 5,
  "metadata": {
    "kernelspec": {
      "name": "python3",
      "display_name": "Python 3 (ipykernel)",
      "language": "python"
    },
    "language_info": {
      "name": "python",
      "codemirror_mode": {
        "name": "ipython",
        "version": "3"
      },
      "file_extension": ".py",
      "mimetype": "text/x-python",
      "nbconvert_exporter": "python",
      "pygments_lexer": "ipython3",
      "version": "3.9.12"
    }
  }
}