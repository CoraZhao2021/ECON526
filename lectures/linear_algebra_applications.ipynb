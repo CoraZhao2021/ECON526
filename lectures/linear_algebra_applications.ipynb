{
  "cells": [
    {
      "cell_type": "markdown",
      "metadata": {},
      "source": [
        "# ECON526: Quantitative Economics with Data Science Applications\n",
        "\n",
        "Applications of Linear Algebra\n",
        "\n",
        "Jesse Perla\n",
        "\n",
        "# Overview\n",
        "\n",
        "## Motivation and Materials\n",
        "\n",
        "-   In this lecture, we will cover some applications of the tools we\n",
        "    developed in the previous lecture\n",
        "\n",
        "-   The goal is to build some useful tools to sharpen your intuition on\n",
        "    linear algebra and eigenvalues/eigenvectors, and practice some basic\n",
        "    coding\n",
        "\n",
        "-   We introduce [scikit-learn](https://scikit-learn.org/stable/), a\n",
        "    package for old-school (i.e. not deep learning or neural networks)\n",
        "    ML and data analysis\n",
        "\n",
        "    -   Introduces “unsupervised learning” (i.e., tools to interpret\n",
        "        data structure without any forecasts/predictions)\n",
        "\n",
        "-   Some additional material and references\n",
        "\n",
        "    -   [QuantEcon\n",
        "        Python](https://python.quantecon.org/linear_algebra.html)\n",
        "    -   [QuantEcon\n",
        "        DataScience](https://datascience.quantecon.org/scientific/applied_linalg.html)\n",
        "    -   [A First Course in Quantitative Economics with\n",
        "        Python](https://intro.quantecon.org/)\n",
        "\n",
        "## Packages"
      ],
      "id": "07ab957f-866f-428c-8f44-014721c888cc"
    },
    {
      "cell_type": "code",
      "execution_count": 1,
      "metadata": {},
      "outputs": [],
      "source": [
        "import numpy as np\n",
        "import matplotlib.pyplot as plt\n",
        "import scipy\n",
        "from numpy.linalg import cond, matrix_rank, norm\n",
        "from scipy.linalg import inv, solve, det, eig, lu, eigvals\n",
        "from scipy.linalg import solve_triangular, eigvalsh, cholesky"
      ],
      "id": "49029828-fe5c-4e61-a631-970748def210"
    },
    {
      "cell_type": "markdown",
      "metadata": {},
      "source": [
        "## New Packages for Data Science and ML"
      ],
      "id": "22fa9764-ca24-4294-ac8c-e56434816828"
    },
    {
      "cell_type": "code",
      "execution_count": 2,
      "metadata": {},
      "outputs": [],
      "source": [
        "import seaborn as sns\n",
        "import pandas as pd\n",
        "from sklearn.decomposition import PCA\n",
        "from sklearn.cluster import KMeans"
      ],
      "id": "1f7358c6-185d-4dd3-adae-72c07d2eefa4"
    },
    {
      "cell_type": "markdown",
      "metadata": {},
      "source": [
        "# Difference Equations\n",
        "\n",
        "## Linear Difference Equations as Iterative Maps\n",
        "\n",
        "-   Consider $A : \\mathbb{R}^N \\to \\mathbb{R}^N$ as the linear map for\n",
        "    the state $x_t \\in \\mathbb{R}^N$\n",
        "-   An example of a linear difference equation is $$\n",
        "    x_{t+1} = A x_t\n",
        "    $$ where\n",
        "\n",
        "$$\n",
        "A \\equiv \\begin{bmatrix}\n",
        "0.9 & 0.1 \\\\\n",
        "0.5 & 0.8 \\\\\n",
        "\\end{bmatrix}\n",
        "$$"
      ],
      "id": "76312ae3-98c1-485f-99dc-bf179a35a068"
    },
    {
      "cell_type": "code",
      "execution_count": 3,
      "metadata": {},
      "outputs": [
        {
          "output_type": "stream",
          "name": "stdout",
          "text": [
            "x_1 = [1.  1.3], x_2 = [1.03 1.54]"
          ]
        }
      ],
      "source": [
        "A = np.array([[0.9, 0.1], [0.5, 0.8]])\n",
        "x_0 = np.array([1, 1])\n",
        "x_1 = A @ x_0\n",
        "print(f\"x_1 = {x_1}, x_2 = {A @ x_1}\")"
      ],
      "id": "fddf3404-c2bc-43bd-a515-e10883382072"
    },
    {
      "cell_type": "markdown",
      "metadata": {},
      "source": [
        "## Iterating with $\\rho(A) > 1$\n",
        "\n",
        "Iterate $x_{t+1} = A x_t$ from $x_0$ for $t=100$"
      ],
      "id": "d73c71f8-0056-4e28-9555-926f35ef250d"
    },
    {
      "cell_type": "code",
      "execution_count": 4,
      "metadata": {},
      "outputs": [
        {
          "output_type": "stream",
          "name": "stdout",
          "text": [
            "rho(A) = 1.079128784747792\n",
            "x_200 = [3406689.32410673 6102361.18640516]"
          ]
        }
      ],
      "source": [
        "x_0 = np.array([1, 1])\n",
        "t = 200\n",
        "print(f\"rho(A) = {np.max(np.abs(eigvals(A)))}\")\n",
        "print(f\"x_{t} = {np.linalg.matrix_power(A, t) @ x_0}\")"
      ],
      "id": "aa8b2e6e-4409-4d9c-920e-c55f6334b71b"
    },
    {
      "cell_type": "markdown",
      "metadata": {},
      "source": [
        "-   Diverges to\n",
        "    $x_{\\infty} = \\begin{bmatrix} \\infty & \\infty \\end{bmatrix}^T$\n",
        "-   $\\rho = 1 + 0.079$ says in the worst case (i.e., $x_t \\propto$ the\n",
        "    eigenvector associated with $\\lambda = 1.079$ eigenvalue), expands\n",
        "    by $7.9\\%$ on each iteration\n",
        "\n",
        "## Iterating with $\\rho(A) < 1$"
      ],
      "id": "fa246e7f-2402-4fdf-acb8-071985f84e02"
    },
    {
      "cell_type": "code",
      "execution_count": 5,
      "metadata": {},
      "outputs": [
        {
          "output_type": "stream",
          "name": "stdout",
          "text": [
            "rho(A) = 0.9449489742783178\n",
            "x_200 = [6.03450418e-06 2.08159603e-05]"
          ]
        }
      ],
      "source": [
        "A = np.array([[0.6, 0.1], [0.5, 0.8]])\n",
        "print(f\"rho(A) = {np.max(np.abs(eigvals(A)))}\")\n",
        "print(f\"x_{t} = {np.linalg.matrix_power(A, t) @ x_0}\")"
      ],
      "id": "84c957aa-aa70-4d8c-ae80-d292782bc45b"
    },
    {
      "cell_type": "markdown",
      "metadata": {},
      "source": [
        "-   Converges to $x_{\\infty} = \\begin{bmatrix} 0 & 0 \\end{bmatrix}^T$\n",
        "\n",
        "## Iterating with $\\rho(A) = 1$\n",
        "\n",
        "-   To make a matrix that has $\\rho(A) = 1$ reverse eigendecomposition!\n",
        "-   Leave previous eigenvectors in $Q$, change $\\Lambda$ to force\n",
        "    $\\rho(A)$ directly"
      ],
      "id": "20e74939-5e55-4867-b092-542be9fd2eb1"
    },
    {
      "cell_type": "code",
      "execution_count": 6,
      "metadata": {},
      "outputs": [
        {
          "output_type": "stream",
          "name": "stdout",
          "text": [
            "check orthogonal: dot(x_1,x_2) approx 0: 0.0\n",
            "rho(A) = 1.0\n",
            "x_200 = [ 0.27639321 -0.17082039]"
          ]
        }
      ],
      "source": [
        "Q = np.array([[-0.85065081, -0.52573111], [0.52573111, -0.85065081]])\n",
        "print(f\"check orthogonal: dot(x_1,x_2) approx 0: {np.dot(Q[:,0], Q[:,1])}\")\n",
        "Lambda = [1.0, 0.8]  # choosing eigenvalue so max_n|lambda_n| = 1\n",
        "A = Q @ np.diag(Lambda) @ inv(Q)\n",
        "print(f\"rho(A) = {np.max(np.abs(eigvals(A)))}\")\n",
        "print(f\"x_{t} = {np.linalg.matrix_power(A, t) @ x_0}\")"
      ],
      "id": "a1ec4850-37b8-4698-98d9-3c5f0c5205fb"
    },
    {
      "cell_type": "markdown",
      "metadata": {},
      "source": [
        "# Unemployment Dynamics\n",
        "\n",
        "## Dynamics of Employment without Population Growth\n",
        "\n",
        "-   Consider an economy where in a given year $\\alpha = 5\\%$ of employed\n",
        "    workers lose job and $\\phi = 10\\%$ of unemployed workers find a job\n",
        "-   We start with $E_0 = 900,000$ employed workers, $U_0 = 100,000$\n",
        "    unemployed workers, and no birth or death. Dynamics for the year:\n",
        "\n",
        "$$\n",
        "\\begin{aligned}\n",
        "E_{t+1} &= (1-\\alpha) E_t + \\phi U_t\\\\\n",
        "U_{t+1} &= \\alpha E_t + (1-\\phi) U_t\n",
        "\\end{aligned}\n",
        "$$\n",
        "\n",
        "-   Can write this as a matrix equation\n",
        "\n",
        "$$\n",
        "\\underbrace{\\begin{bmatrix} E_{t+1}\\\\U_{t+1}\\end{bmatrix}}_{X_{t+1}} = \\underbrace{\\begin{bmatrix} 1-\\alpha & \\phi \\\\ \\alpha & 1-\\phi \\end{bmatrix}}_{ A} \\underbrace{\\begin{bmatrix} E_{t}\\\\U_{t}\\end{bmatrix}}_{X_t}\n",
        "$$\n",
        "\n",
        "## Simulating\n",
        "\n",
        "Simulate by iterating $X_{t+1} = A X_t$ from $X_0$ until $T=100$"
      ],
      "id": "61fa0f99-d2d7-4889-8707-b532184851fd"
    },
    {
      "cell_type": "code",
      "execution_count": 7,
      "metadata": {},
      "outputs": [
        {
          "output_type": "stream",
          "name": "stdout",
          "text": [
            "X_100 = [666666.6870779  333333.31292209]"
          ]
        }
      ],
      "source": [
        "def simulate(A, X_0, T):\n",
        "    X = np.zeros((2, T+1))\n",
        "    X[:,0] = X_0\n",
        "    for t in range(T):\n",
        "        X[:,t+1] = A @ X[:,t]\n",
        "    return X\n",
        "X_0 = np.array([900000, 100000])\n",
        "A = np.array([[0.95, 0.1], [0.05, 0.9]])\n",
        "T = 100\n",
        "X = simulate(A, X_0, T)\n",
        "print(f\"X_{T} = {X[:,T]}\")"
      ],
      "id": "35ba71c7-01ab-4a08-b0c5-f6b1307129b7"
    },
    {
      "cell_type": "markdown",
      "metadata": {},
      "source": [
        "## Plotting Code"
      ],
      "id": "551bdffd-ef60-439a-af0c-884ebcfe2ab4"
    },
    {
      "cell_type": "code",
      "execution_count": 8,
      "metadata": {},
      "outputs": [],
      "source": [
        "fig, ax = plt.subplots(figsize=(6, 4))\n",
        "ax.plot(range(T+1), X.T, label=[\"Employed\", \"Unemployed\"])\n",
        "ax.set(xlabel=\"t\", ylabel=\"Number of Workers\", title=\"Employment Status\")\n",
        "ax.legend()\n",
        "plt.show()"
      ],
      "id": "f68188fa-7439-49c0-a2a0-c28fd4f9c503"
    },
    {
      "cell_type": "markdown",
      "metadata": {},
      "source": [
        "## Dynamics of Unemployment"
      ],
      "id": "c2ff230c-8309-4cf5-bd38-3ff7d1a41b05"
    },
    {
      "cell_type": "code",
      "execution_count": 9,
      "metadata": {},
      "outputs": [
        {
          "output_type": "display_data",
          "metadata": {},
          "data": {
            "image/png": "[encoded data removed]"
          }
        }
      ],
      "source": [
        "fig, ax = plt.subplots(figsize=(6, 4))\n",
        "ax.plot(range(T+1), X.T, label=[\"Employed\", \"Unemployed\"])\n",
        "ax.set(xlabel=\"t\", ylabel=\"Number of Workers\", title=\"Employment Status\")\n",
        "ax.legend()\n",
        "plt.show()"
      ],
      "id": "73572a4f-2dc9-4e11-b9ce-19a558ad8b27"
    },
    {
      "cell_type": "markdown",
      "metadata": {},
      "source": [
        "## Convergence to a Longrun Distribution\n",
        "\n",
        "-   Find $X_{\\infty}$ by iterating $X_{t+1} = A X_t$ many times from a\n",
        "    $X_0$?\n",
        "\n",
        "    -   Check if it has converged with $X_{\\infty} \\approx A X_{\\infty}$\n",
        "    -   Is $X_{\\infty}$ the same from any $X_0$? Will discuss\n",
        "        “ergodicity” later\n",
        "\n",
        "-   Alternatively, note that this expression is the same as\n",
        "\n",
        "    $$\n",
        "    1 \\times \\bar{X} = A \\bar{X}\n",
        "    $$\n",
        "\n",
        "    -   i.e, a $\\lambda = 1$ where $\\bar{X}$ is the corresponding\n",
        "        eigenvector of $A$\n",
        "    -   Is $\\lambda = 1$ always an eigenvalue? (yes if all\n",
        "        $\\sum_{n=1}^N A_{ni} = 1$ for all $i$)\n",
        "    -   Does $\\bar{X} = X_{\\infty}$? For any $X_0$?\n",
        "    -   Multiple eigenvalues with $\\lambda = 1 \\implies$ multiple\n",
        "        $\\bar{X}$\n",
        "\n",
        "## Using the First Eigenvector for the Steady State"
      ],
      "id": "ca98c017-37d5-438c-a739-da2be5f25f7f"
    },
    {
      "cell_type": "code",
      "execution_count": 10,
      "metadata": {},
      "outputs": [
        {
          "output_type": "stream",
          "name": "stdout",
          "text": [
            "real eigenvalues = [1.   0.85]\n",
            "eigenvectors are column-by-column in Q =\n",
            "[[ 0.89442719 -0.70710678]\n",
            " [ 0.4472136   0.70710678]]\n",
            "first eigenvalue = 1? True\n",
            "X_bar = [666666.66666667 333333.33333333]\n",
            "X_100 = [666666.6870779  333333.31292209]"
          ]
        }
      ],
      "source": [
        "Lambda, Q = eig(A)\n",
        "print(f\"real eigenvalues = {np.real(Lambda)}\")\n",
        "print(f\"eigenvectors are column-by-column in Q =\\n{Q}\")\n",
        "print(f\"first eigenvalue = 1? {np.isclose(Lambda[0], 1.0)}\")\n",
        "X_bar = Q[:,0] / np.sum(Q[:,0]) * np.sum(X_0)\n",
        "print(f\"X_bar = {X_bar}\\nX_{T} = {X[:,T]}\")"
      ],
      "id": "ecc0d4e4-6e6d-4dc0-9c42-63b7ed24d7ee"
    },
    {
      "cell_type": "markdown",
      "metadata": {},
      "source": [
        "## Using the Second Eigenvalue for the Convergence Speed\n",
        "\n",
        "-   The second largest ($\\lambda_2 < 1$) provides information on the\n",
        "    speed of convergence\n",
        "    -   $0$ is instantaneous convergence here\n",
        "    -   $1$ is no convergence here\n",
        "-   We will create a new matrix with the same steady state, different\n",
        "    speed\n",
        "    -   To do this, build a new matrix with the same eigenvectors (in\n",
        "        particular the same eigenvector associated with the $\\lambda=1$\n",
        "        eigenvalue)\n",
        "    -   But we will replace the eigenvalues\n",
        "        $\\begin{bmatrix}1.0 & 0.85\\end{bmatrix}$ with\n",
        "        $\\begin{bmatrix}1.0 & 0.5\\end{bmatrix}$\n",
        "    -   Then we will reconstruct $A$ matrix and simulate again\n",
        "-   Intuitively we will see the that the resulting $A_{\\text{fast}}$\n",
        "    implies $\\alpha$ and $\\phi$ which are larger by the same proportion\n",
        "\n",
        "## Simulating with Different Eigenvalues"
      ],
      "id": "dc42b67b-56f9-4395-a164-2986e7a0b514"
    },
    {
      "cell_type": "code",
      "execution_count": 11,
      "metadata": {},
      "outputs": [
        {
          "output_type": "stream",
          "name": "stdout",
          "text": [
            "A_fast =\n",
            " [[0.8 0.4]\n",
            " [0.2 0.6]]\n",
            "alpha_fast/alpha = 4, phi_fast/phi = 4\n",
            "X_100 = [666666.66666667 333333.33333333]"
          ]
        }
      ],
      "source": [
        "Lambda_fast = np.array([1.0, 0.4])\n",
        "A_fast = Q @ np.diag(Lambda_fast) @ inv(Q) # same eigenvectors\n",
        "print(\"A_fast =\\n\", A_fast)\n",
        "print(f\"alpha_fast/alpha = {A_fast[1,0]/A[1,0]:.2g}, \\\n",
        "phi_fast/phi = {A_fast[0,1]/A[0,1]:.2g}\")\n",
        "X_fast = simulate(A_fast, X_0, T)\n",
        "print(f\"X_{T} = {X_fast[:,T]}\")"
      ],
      "id": "a41c1fd3-fbb1-4533-a0bd-bbdb8527253d"
    },
    {
      "cell_type": "markdown",
      "metadata": {},
      "source": [
        "## Dynamics of Unemployment For Difference Convergence Speeds"
      ],
      "id": "9dbc4d88-991f-4ddc-9890-d33ea0a66e8e"
    },
    {
      "cell_type": "code",
      "execution_count": 12,
      "metadata": {},
      "outputs": [
        {
          "output_type": "display_data",
          "metadata": {},
          "data": {
            "image/png": "[encoded data removed]"
          }
        }
      ],
      "source": [
        "lambda_2_old = np.real(Lambda[1])\n",
        "lambda_2_new = Lambda_fast[1]\n",
        "fig, ax = plt.subplots(figsize=(6, 4))\n",
        "ax.plot(range(T+1), X.T, label=[rf\"Employed$(\\lambda_2={lambda_2_old})$\", rf\"Unemployed$(\\lambda_2={lambda_2_old})$\"])\n",
        "ax.plot(range(T+1), X_fast.T, label=[rf\"Employed$(\\lambda_2={lambda_2_new})$\", rf\"Unemployed$(\\lambda_2={lambda_2_new})$\"])\n",
        "ax.set(xlabel=\"t\", ylabel=\"Number of Workers\", title=\"Employment Status\")\n",
        "ax.legend()\n",
        "plt.show()"
      ],
      "id": "56ebfbe5-f776-4241-a3b8-690c9e039e7b"
    },
    {
      "cell_type": "markdown",
      "metadata": {},
      "source": [
        "# Latent Variables\n",
        "\n",
        "## Features, Labels, and Latents\n",
        "\n",
        "-   Data science and ML often use different terminology than economists:\n",
        "    -   **Features** are economists **explanatory or independent\n",
        "        variables**. They have the key source of variation to make\n",
        "        predictions and conduct counterfactuals\n",
        "    -   **Labels** correspond to economists **observables or dependent\n",
        "        variables**\n",
        "    -   **Latent Variables** are **unobserved variables**, typically\n",
        "        sources of heterogeneity or which may drive both the dependent\n",
        "        and independent variables\n",
        "-   Economists will use theory and experience to transform data (i.e.,\n",
        "    what ML people call “feature engineering”) for better explanatory\n",
        "    power or map to theoretical models\n",
        "-   ML refers to methods using only **features** as **unsupervised\n",
        "    learning**. The structure of the underlying data can teach you about\n",
        "    its data generating process\n",
        "-   Key: uncover and interpret latent variables using statistics coupled\n",
        "    with assumptions from economic theory. There is theory beyond all\n",
        "    interpretation\n",
        "\n",
        "## Principle Components and Factor Analysis\n",
        "\n",
        "-   Another application of eigenvalues is dimension reduction, which\n",
        "    simplifies **features** by uncovering **latent** variables.\n",
        "    Unsupervised\n",
        "-   One technique is Principle Components Analysis (PCA) which uncovers\n",
        "    latent variables that capture the primary directions of variation in\n",
        "    the underlying data\n",
        "    -   May allow mapping data into a lower-dimensional, uncorrelated\n",
        "        set of features\n",
        "    -   Often uses Singular Value Decomposition (SVD) - a numerically\n",
        "        stable generalization of eigendecomposition to non-square\n",
        "        matrices.See [QuantEcon SVD\n",
        "        Notes](https://python.quantecon.org/svd_intro.html#application-principal-components-analysis-pca)\n",
        "    -   One of many methods. Many algorithms in ML and econometrics have\n",
        "        similar goals but can be non-linear\n",
        "-   Given a matrix $X \\in \\mathbb{R}^{N \\times M}$, can we find a\n",
        "    lower-dimensional representation $Z \\in \\mathbb{R}^{N \\times L}$ for\n",
        "    $L < M$ that captures the most variation in $X$?\n",
        "-   The columns of $Z$ are called the principle components of $X$\n",
        "-   The goal is to invert the $X$ data to find the $Z$—and provide a\n",
        "    mapping to reduce the dimensionality for future data\n",
        "\n",
        "## Decomposing the Data\n",
        "\n",
        "PCA typically uses SVD in practice - but we will use eigendecomposition\n",
        "(aka spectral decomposition if symmetric) instead\n",
        "\n",
        "Start by doing a decomposition of the “covariance matrix” of the data,\n",
        "$X X^T$, and form diagonal $\\Lambda$ as a product of vectors\n",
        "$\\sigma\\in\\mathbb{R}^N$ (the singular values)\n",
        "\n",
        "$$\n",
        "X X^T = Q \\Lambda Q^T = \\underbrace{Q \\sigma}_{X} \\underbrace{\\sigma^T Q^T}_{(Q \\sigma)^T = X^T},\\quad \\text{where } \\Lambda \\equiv \\sigma \\sigma^T\n",
        "$$\n",
        "\n",
        "Hence, denoting the $n$th column of $Q$ as $Q_n$, we have\n",
        "\n",
        "$$\n",
        "X = Q \\sigma = Q_1 \\sigma_1 + Q_2 \\sigma_2 + \\ldots + Q_M \\sigma_M\n",
        "$$\n",
        "\n",
        "## Dimension Reduction\n",
        "\n",
        "-   Assume we sorted so\n",
        "    $\\sigma_1 \\geq \\sigma_2 \\geq \\ldots \\geq \\sigma_M$. Frequently\n",
        "    $\\sigma_1 \\gg \\sigma_M$\n",
        "-   For many problems, the $\\sigma_m$ decay quickly, so we can\n",
        "    approximate $X$ with fewer terms by truncating the sum at $L < M$.\n",
        "\n",
        "$$\n",
        "X \\approx Q_1 \\sigma_1 + Q_2 \\sigma_2 + \\ldots + Q_L \\sigma_L\n",
        "$$\n",
        "\n",
        "-   The eigendecomposition (or SVD) can find the orthogonal directions\n",
        "    of the data that capture the most variation in the covariance matrix\n",
        "    -   Can prove it is the solution to the optimization problem to\n",
        "        explain the most variation in the data with the lowest\n",
        "        dimensionality\n",
        "-   This is useful even if it is not necessary to reduce the\n",
        "    dimensionality of the data\n",
        "    -   Many high-dimensional data sources are low-dimensional in the\n",
        "        suitable space.\n",
        "    -   This is especially true when models allow for nonlinear\n",
        "        transformations (e.g., neural networks, autoencoders, etc.)\n",
        "\n",
        "## Creating a Dataset with Latent Factors\n",
        "\n",
        "Create a dataset with two latent factors, the first dominating"
      ],
      "id": "e6194aca-58d6-4e6e-8c57-cb7dbe3a264e"
    },
    {
      "cell_type": "code",
      "execution_count": 13,
      "metadata": {},
      "outputs": [],
      "source": [
        "N = 50 # number of observations\n",
        "L, M = 2, 3 # number of latent and observed factors\n",
        "Z = np.random.randn(N, L) # latent factors\n",
        "F = np.array([[1.0, 0.05], # X_1 = Z_1 + 0.05 Z_2\n",
        "              [2.0, 0.0], # X_2 = 2 Z_1\n",
        "              [3.0, 0.1]]) # X_3 = 3 Z_1 + 0.1 Z_2\n",
        "X = Z @ F.T + 0.1 * np.random.randn(N, M) # added noise"
      ],
      "id": "7e507235-0f93-4b0f-9564-4d40e4e79648"
    },
    {
      "cell_type": "markdown",
      "metadata": {},
      "source": [
        "## PCA without any Dimension Reduction\n",
        "\n",
        "-   See [QuantEcon SVD](https://python.quantecon.org/svd_intro.html) for\n",
        "    coding yourself. We will use the\n",
        "    [sklearn](https://scikit-learn.org/stable/modules/generated/sklearn.decomposition.PCA.html)\n",
        "    package\n",
        "-   The explained variance is the fraction of the variance explained by\n",
        "    each factor"
      ],
      "id": "0faa3966-6554-40d5-8633-5e1ca5f629c7"
    },
    {
      "cell_type": "code",
      "execution_count": 14,
      "metadata": {},
      "outputs": [
        {
          "output_type": "stream",
          "name": "stdout",
          "text": [
            "Singular Values (sqrt eigenvalues):\n",
            "[28.4261  0.866   0.6696]\n",
            "Explained Variance (ordered):\n",
            "[0.9985 0.0009 0.0006]"
          ]
        }
      ],
      "source": [
        "pca = PCA(n_components=3)\n",
        "pca.fit(X)\n",
        "with np.printoptions(precision=4, suppress=True, threshold=5):\n",
        "  print(f\"Singular Values (sqrt eigenvalues):\\n{pca.singular_values_}\")\n",
        "  print(f\"Explained Variance (ordered):\\n{pca.explained_variance_ratio_}\")"
      ],
      "id": "6f644133-765d-411e-a8fe-441e19e7e7b0"
    },
    {
      "cell_type": "markdown",
      "metadata": {},
      "source": [
        "## Dimension Reduction with PCA"
      ],
      "id": "4e9a37cb-e0a9-4d62-a3a5-2109cceddc28"
    },
    {
      "cell_type": "code",
      "execution_count": 15,
      "metadata": {},
      "outputs": [
        {
          "output_type": "stream",
          "name": "stdout",
          "text": [
            "Correlation of Z_1 to Z_hat_1 = 0.9995180297837198\n",
            "Correlation of Z_2 to Z_hat_2 = -0.4473522493603573"
          ]
        }
      ],
      "source": [
        "pca = PCA(n_components=2) # one less, and correctly specified\n",
        "Z_hat = pca.fit_transform(X) # transformed by dropping last factor \n",
        "# Scale and sign may not match due to indeterminacy\n",
        "print(f\"Correlation of Z_1 to Z_hat_1 = {np.corrcoef(Z.T, Z_hat.T)[0,2]}\")\n",
        "print(f\"Correlation of Z_2 to Z_hat_2 = {np.corrcoef(Z.T, Z_hat.T)[1,3]}\")"
      ],
      "id": "d3111cd3-1b5b-4462-a8c5-b24f633dbdf3"
    },
    {
      "cell_type": "markdown",
      "metadata": {},
      "source": [
        "## Interpreting the Results\n",
        "\n",
        "-   The first factor in the decomposition is nearly perfectly (positive\n",
        "    or negatively) correlated with the more important latent factor\n",
        "    -   The sign could have gone either way. The key is the shared\n",
        "        information\n",
        "    -   How could you have known the sign is indeterminate?\n",
        "-   The 2nd factor has a good but not great correlation with the 2nd\n",
        "    latent. Why?\n",
        "-   The variance decomposition that gave a 3rd factor with non-zero\n",
        "    variance\n",
        "    -   In our process, there are only two latent variables. Why didn’t\n",
        "        it figure it out?\n",
        "-   How could you have changed the DGP to make this **less** successful?\n",
        "\n",
        "# Present Discounted Values\n",
        "\n",
        "## Geometric Series\n",
        "\n",
        "-   Assume dividends follow $y_{t+1} = G y_t$ for $t=0,1,\\ldots$ and\n",
        "    $y_0$ is given\n",
        "\n",
        "-   $G > 0$, dividends are discounted at factor $\\beta > 1$ then\n",
        "    $p_t = \\sum_{s=0}^{\\infty} \\beta^s y_{t+s} = \\frac{y_t}{1-\\beta G}$\n",
        "\n",
        "-   More generally if $x_{t+1} = A x_t$, $x_t \\in \\mathbb{R}^N$,\n",
        "    $y_t = G x_t$ and $A \\in \\mathbb{R}^{N \\times N}$, then\n",
        "\n",
        "    $$\n",
        "    \\begin{aligned}\n",
        "    p_t &= y_t + \\beta y_{t+1} + \\beta^2 y_{t+2} + \\ldots = G x_t + \\beta G A x_t + \\beta G A A  x_t + \\ldots\\\\\n",
        "    &= \\sum_{s=0}^{\\infty} \\beta^s A^s y_t\\\\\n",
        "    &= G (I - \\beta A)^{-1} x_t\\quad,\\text{ if } \\rho(A) < 1/\\beta\n",
        "    \\end{aligned}\n",
        "    $$\n",
        "\n",
        "-   i.e., spectral radius of $A$, the maximum scaling, must be less than\n",
        "    discounting\n",
        "\n",
        "-   Intuition from univariate: of $G \\in \\mathbb{R}^{1 \\times 1}$ then\n",
        "    $\\text{eig}(G) = G$, so must have $|\\beta G| < 1$\n",
        "\n",
        "## PDV Example\n",
        "\n",
        "Here is an example with $1 < \\rho(A) < 1/\\beta$. Try with different $A$"
      ],
      "id": "394f062a-3b4b-435b-a30b-29fa48e42eeb"
    },
    {
      "cell_type": "code",
      "execution_count": 16,
      "metadata": {},
      "outputs": [
        {
          "output_type": "stream",
          "name": "stdout",
          "text": [
            "p_t = 24.43, spectral radius = 1.019, 1/beta = 1.111"
          ]
        }
      ],
      "source": [
        "beta = 0.9\n",
        "A = np.array([[0.85, 0.1], [0.2, 0.9]])\n",
        "G = np.array([[1.0, 1.0]]) # row vector\n",
        "x_0 = np.array([1.0, 1.0])\n",
        "p_t = G @ solve(np.eye(2) - beta * A, x_0)\n",
        "#p_t = G @ inv(np.eye(2) - beta * A) @ x_0 # alternative\n",
        "rho_A = np.max(np.abs(np.real(eigvals(A))))\n",
        "print(f\"p_t = {p_t[0]:.4g}, spectral radius = {rho_A:.4g}, 1/beta = {1/beta:.4g}\")"
      ],
      "id": "c44b3ca6-d391-409a-8aa4-ded35b958f8e"
    },
    {
      "cell_type": "markdown",
      "metadata": {},
      "source": [
        "## A Portfolio Example\n",
        "\n",
        "-   Two assets pay dividends\n",
        "    $d_t \\equiv \\begin{bmatrix} d_{1t} & d_{2t} \\end{bmatrix}^T$\n",
        "    following $d_{t+1} = A\\, d_t$ from $d_0$\n",
        "-   Porfolio has $G \\equiv \\begin{bmatrix} G_1 & G_2 \\end{bmatrix}$\n",
        "    shares of each asset and you discount at rate $\\beta$"
      ],
      "id": "3086bd68-42b0-48bf-8ed6-26ab1cf7c8e8"
    },
    {
      "cell_type": "code",
      "execution_count": 17,
      "metadata": {},
      "outputs": [
        {
          "output_type": "stream",
          "name": "stdout",
          "text": [
            "Portfolio value at t=0 is 1424.5, total dividends at time 10 is 36.955"
          ]
        }
      ],
      "source": [
        "A = np.array([[0.6619469, 0.49646018],[0.5840708, 0.4380531]])\n",
        "G = np.array([[10.0, 4.0]])       \n",
        "d_0 = np.array([1.0, 1.0])\n",
        "T, beta = 10, 0.9\n",
        "p_0 = G @ solve(np.eye(2) - beta * A, d_0)\n",
        "d = simulate(A, d_0, T)\n",
        "y = G @ d # total dividends from portfolio\n",
        "print(f\"Portfolio value at t=0 is {p_0[0]:.5g}, total dividends at time {T} is {y[0,T]:.5g}\")"
      ],
      "id": "4d54920b-b828-4fa2-ac73-5910941ce815"
    },
    {
      "cell_type": "markdown",
      "metadata": {},
      "source": [
        "## Dividends Seem to Grow at a Similar Rate?"
      ],
      "id": "ade03610-7873-475f-8917-9d3068ae6a8a"
    },
    {
      "cell_type": "code",
      "execution_count": 18,
      "metadata": {},
      "outputs": [
        {
          "output_type": "display_data",
          "metadata": {},
          "data": {
            "image/png": "[encoded data removed]"
          }
        }
      ],
      "source": [
        "fig, ax = plt.subplots(figsize=(6, 4))\n",
        "ax.plot(range(T+1), d.T, label=[r\"$d_{1t}$\", r\"$d_{2t}$\"])\n",
        "ax.set(xlabel=\"t\", title=\"Dividend Simulation\")\n",
        "ax.legend()\n",
        "plt.show()"
      ],
      "id": "3347df6f-74a5-49a1-a9dd-0a9259401e2e"
    },
    {
      "cell_type": "markdown",
      "metadata": {},
      "source": [
        "## Digging Deeper\n",
        "\n",
        "-   Let’s do an eigendecomposition to analyze the factors"
      ],
      "id": "9a1905fd-aa53-44aa-ba87-f224f08f318c"
    },
    {
      "cell_type": "code",
      "execution_count": 19,
      "metadata": {},
      "outputs": [
        {
          "output_type": "stream",
          "name": "stdout",
          "text": [
            "[ 1.10000000e+00 -2.65486733e-09]"
          ]
        }
      ],
      "source": [
        "Lambda, Q = eig(A)\n",
        "print(np.real(Lambda))"
      ],
      "id": "9f9d3417-8452-4206-aa75-a01495a21bd4"
    },
    {
      "cell_type": "markdown",
      "metadata": {},
      "source": [
        "-   The first eigenvector is 1.1, but the second is (numerically) zero!\n",
        "    -   (In fact, I rigged it to be zero by constructing from a\n",
        "        $\\Lambda$, so this is all numerical copy/paste errors)\n",
        "-   Suggests that maybe only one latent factor driving both $d_{1t}$ and\n",
        "    $d_{2t}$?\n",
        "\n",
        "## Evolution Matrix is Very Simple with $\\lambda_2 = 0$\n",
        "\n",
        "If we stack columns $Q \\equiv \\begin {bmatrix} q_1 & q_2 \\end{bmatrix}$\n",
        "then, $$\n",
        "A = Q \\Lambda Q^{-1} = Q \\begin{bmatrix} \\lambda_1 & 0 \\\\ 0 & 0 \\end{bmatrix} Q^{-1} = \\lambda_1 q_1  q_1^{-1}\n",
        "$$"
      ],
      "id": "4f9cf2b2-ee94-4865-ad13-a5ba7fb34084"
    },
    {
      "cell_type": "code",
      "execution_count": 20,
      "metadata": {},
      "outputs": [
        {
          "output_type": "display_data",
          "metadata": {},
          "data": {
            "text/plain": [
              "2.663274500543771e-09"
            ]
          }
        }
      ],
      "source": [
        "lambda_1 = np.real(Lambda[0])\n",
        "q_1 = np.reshape(Q[:,0], (2,1))\n",
        "q_1_inv = np.reshape(inv(Q)[0,:], (1,2))\n",
        "norm(A - lambda_1 * q_1 @ q_1_inv) # pretty close to zero!"
      ],
      "id": "b4e5a11b-e458-46c9-a27a-1b74317b4a84"
    },
    {
      "cell_type": "markdown",
      "metadata": {},
      "source": [
        "## Transforming to the Latent State\n",
        "\n",
        "-   Recall: $A = Q \\Lambda Q^{-1}$ can be interpreted as:\n",
        "    -   Transformation to latent space, scaling, transform back\n",
        "-   We can demonstrate this in our example:\n",
        "    -   Transforming $d_0$ to $\\ell_0$ using $q_1^{-1}$\n",
        "    -   Evolving $\\ell_t$ from $\\ell_0$ with\n",
        "        $\\ell_{t+1} = \\lambda_1 \\ell_t$, or\n",
        "        $\\ell_t = \\lambda_1^t \\ell_0$\n",
        "    -   Transforming back with $q_1$\n",
        "    -   Checking if it aligns with the $d_t$\n",
        "\n",
        "## Implementation"
      ],
      "id": "fe331dc1-a409-4c48-a443-15410c15052e"
    },
    {
      "cell_type": "code",
      "execution_count": 21,
      "metadata": {},
      "outputs": [
        {
          "output_type": "stream",
          "name": "stdout",
          "text": [
            "norm = 2.3494410875961204e-10"
          ]
        }
      ],
      "source": [
        "l_0 = lambda_1 * q_1_inv @ d_0 # latent space\n",
        "l = l_0 * np.power(lambda_1, np.arange(0, T)) # powers\n",
        "d_hat = q_1 * l # back to original space\n",
        "# Missing d_0 since doing A * d_0 iterations\n",
        "print(f\"norm = {norm(d[:,1:] - d_hat)}\")\n",
        "y_hat = G @ d_hat"
      ],
      "id": "e1c1081a-5cbc-4a8d-a571-d49486064495"
    },
    {
      "cell_type": "markdown",
      "metadata": {},
      "source": [
        "Let’s see if these line up perfectly\n",
        "\n",
        "## Total Dividends and the Latent Variable"
      ],
      "id": "810ba8cf-f629-421e-96fb-ac1be5d4d70c"
    },
    {
      "cell_type": "code",
      "execution_count": 22,
      "metadata": {},
      "outputs": [
        {
          "output_type": "display_data",
          "metadata": {},
          "data": {
            "image/png": "[encoded data removed]"
          }
        }
      ],
      "source": [
        "fig, ax = plt.subplots(figsize=(6, 4))\n",
        "data = np.vstack((y_hat / y_hat[:,0], l / l[0]))\n",
        "ax.plot(range(1, T+1), data.T, label=[r\"$\\frac{y_t}{y_1}$\", r\"$\\frac{\\ell_t}{\\ell_1}$\"])\n",
        "ax.set(xlabel=\"t\", title=\"Latents vs. Total Dividends\")\n",
        "ax.legend()\n",
        "plt.show()"
      ],
      "id": "68ee6ff2-1752-4c3c-9a57-a52da16b07db"
    },
    {
      "cell_type": "markdown",
      "metadata": {},
      "source": [
        "# Discrete Latent Variables\n",
        "\n",
        "## Clustering and Discrete Latent Variables\n",
        "\n",
        "-   PCA was a way to uncover continuous latent variables, or find\n",
        "    low-dimensional continuous approximations\n",
        "-   But latent variables may be discrete (e.g., types of people, firms)\n",
        "-   Hidden discrete variables require assigning observations to groups\n",
        "-   Clustering lets you take a set of observations with (potentially)\n",
        "    variables (i.e., features) and try to assign a discrete latent\n",
        "    variable to each observation\n",
        "    -   Sometimes we know the number of groups from theory, usually we\n",
        "        do not\n",
        "    -   While some are statistical and probabilistic, most methods\n",
        "        assign a single latent type rather than a distribution\n",
        "    -   Choosing the number of groups to assign to is a challenge that\n",
        "        requires theory and regularization - which we will avoid here\n",
        "    -   Instead, just as with PCA we will choose the number of groups\n",
        "        ad-hoc rather than in a disciplined way\n",
        "\n",
        "## Partitioning Sets\n",
        "\n",
        "-   Let $X\\in\\mathbb{R}^{N\\times M}$ with\n",
        "    $x_1,\\ldots x_N\\in\\mathbb{R}^M$ the individual observations\n",
        "-   Assume that each $x_n$ has a latent discrete $k \\in \\{1, \\ldots K\\}$\n",
        "    then we can assign each observation to one group\n",
        "    -   $\\mathbf{S} \\equiv \\{S_1, \\ldots, S_K\\}$ where each\n",
        "        $n=1,\\ldots N$ is in exactly one $S_k$ (i.e. a partition)\n",
        "-   The goal is to find the partition which is the most likely to assign\n",
        "    each $x_n$ the correct latent variable $k$\n",
        "-   An alternative interpretation is to think of this as a dimension\n",
        "    reduction technique which reduces complicated data into a\n",
        "    low-dimensional discrete variable\n",
        "-   In economics we will sometimes cluster on some observations to\n",
        "    reduce the dimension, then leave others continuous\n",
        "\n",
        "## k-means Clustering\n",
        "\n",
        "-   If theory suggests that $n\\in S_k$ with similar latent variables\n",
        "    should have similar $x_n$\n",
        "\n",
        "    -   Group observations which are close or similar to each other\n",
        "    -   As always in linear algebra, close suggests using a norm. The\n",
        "        euclidean norm in the $M$ dimensional feature space is a good\n",
        "        baseline\n",
        "\n",
        "-   The objective of k-means is to choose the partition $\\mathbf{S}$\n",
        "    which minimizes the norm between observations within each group\n",
        "    (normalized by group size $|S_k|$):\n",
        "\n",
        "    $$\n",
        "    \\min_{\\mathbf{S}} \\sum_{k=1}^K \\frac{1}{|S_k|}\\sum_{x_n, x_{n'} \\in S_k} ||x_n - x_{n'}||_2^2\n",
        "    $$\n",
        "\n",
        "-   Using standard euclidean norm between two elements in $S_k$ $$\n",
        "    ||x_n - x_{n'}||_2^2 = \\sum_{m=1}^M (x_{nm} - x_{n'm})^2\n",
        "    $$\n",
        "\n",
        "## k-means Objective Function\n",
        "\n",
        "-   Can prove that the previous objective is equivalent to minimizing\n",
        "    the sum of the squared distances from the group $k$’s mean\n",
        "\n",
        "    $$\n",
        "    \\min_{\\mathbf{S}} \\sum_{k=1}^K \\sum_{n \\in S_k} ||x_n - \\bar{x}_k||_2^2\n",
        "    $$\n",
        "\n",
        "-   Where the mean of group $k$ is standard, and across all $m$ features\n",
        "\n",
        "    $$\n",
        "    \\bar{x}_k \\equiv \\frac{1}{|S_k|}\\sum_{x_n \\in S_k} x_n\n",
        "    $$\n",
        "\n",
        "-   Careful with using wildly different scales (i.e. $\\bar{x}_k$ may be\n",
        "    dominated by one feature)\n",
        "\n",
        "## Generating Data with Latent Groups\n",
        "\n",
        "Generate data with 2 features and 2 latent groups and see how k-means\n",
        "does"
      ],
      "id": "dc23ea1c-47f3-41b6-a303-633502e1a5c1"
    },
    {
      "cell_type": "code",
      "execution_count": 23,
      "metadata": {},
      "outputs": [],
      "source": [
        "mu_1 = np.array([0.0, 0.0]) # mean of k=1\n",
        "mu_2 = np.array([1.0, 1.0]) # mean of k=2\n",
        "sigma = np.array([[0.2, 0], [0, 0.2]]) # use same variance\n",
        "N = 100 # observations\n",
        "X_1 = np.random.multivariate_normal(mu_1, sigma, N)\n",
        "X_2 = np.random.multivariate_normal(mu_2, sigma, N)\n",
        "df_1 = pd.DataFrame({\"f1\": X_1[:, 0], \"f2\": X_1[:, 1], \"k\": 1})\n",
        "df_2 = pd.DataFrame({\"f1\": X_2[:, 0], \"f2\": X_2[:, 1], \"k\": 2})\n",
        "df = pd.concat([df_1, df_2], ignore_index=True)"
      ],
      "id": "99728b4e-befe-4d76-8128-593fc37575ab"
    },
    {
      "cell_type": "markdown",
      "metadata": {},
      "source": [
        "## Plotting Code with Seaborn"
      ],
      "id": "455f4963-cd42-4363-a031-42a3621a58db"
    },
    {
      "cell_type": "code",
      "execution_count": 24,
      "metadata": {},
      "outputs": [],
      "source": [
        "fig, ax = plt.subplots(figsize=(6, 4))\n",
        "sns.scatterplot(data=df, x=\"f1\", y=\"f2\", hue=\"k\", ax=ax)\n",
        "ax.set(xlabel=\"Feature 1\", ylabel=\"Feature 2\", title=\"Latent Groups\")\n",
        "plt.show()"
      ],
      "id": "b868199f-796f-4060-9964-4b1430a8deee"
    },
    {
      "cell_type": "markdown",
      "metadata": {},
      "source": [
        "## Plot of Features and Latents"
      ],
      "id": "4dee97e2-7f8f-4e48-8253-11e83951258f"
    },
    {
      "cell_type": "code",
      "execution_count": 25,
      "metadata": {},
      "outputs": [
        {
          "output_type": "display_data",
          "metadata": {},
          "data": {
            "image/png": "[encoded data removed]"
          }
        }
      ],
      "source": [
        "fig, ax = plt.subplots(figsize=(6, 4))\n",
        "sns.scatterplot(data=df, x=\"f1\", y=\"f2\", hue=\"k\", ax=ax)\n",
        "ax.set(xlabel=\"Feature 1\", ylabel=\"Feature 2\", title=\"Latent Groups\")\n",
        "plt.show()"
      ],
      "id": "c970b52e-32c9-46ed-b174-f354a1537513"
    },
    {
      "cell_type": "markdown",
      "metadata": {},
      "source": [
        "## k-means to Recover the Latent Groups\n",
        "\n",
        "-   Run k-means with 2 clusters and check the results\n",
        "-   If correlation is close to 1 then succesfully recovered the latent\n",
        "    groups\n",
        "-   If the correlation is close to -1 then it was succesful. The latent\n",
        "    groups $\\hat{k}$ numbers are ordered arbitrarily, just as $k$ was"
      ],
      "id": "19a686ea-9eb9-4d96-b4e3-716b8cf1e696"
    },
    {
      "cell_type": "code",
      "execution_count": 26,
      "metadata": {},
      "outputs": [
        {
          "output_type": "stream",
          "name": "stdout",
          "text": [
            "Correlation between k and k_hat:-0.83"
          ]
        }
      ],
      "source": [
        "kmeans = KMeans(n_clusters=2, random_state=0)\n",
        "k_hat = kmeans.fit_predict(df[[\"f1\", \"f2\"]])\n",
        "df[\"k_hat\"] = k_hat + 1\n",
        "corr = df[\"k\"].corr(df[\"k_hat\"])\n",
        "print(f\"Correlation between k and k_hat:{corr:.2f}\")"
      ],
      "id": "22dad3a2-79d9-460f-b441-2859d4837d95"
    },
    {
      "cell_type": "markdown",
      "metadata": {},
      "source": [
        "## Confusion Matrix"
      ],
      "id": "3657a1c0-2fc6-492d-bcb0-083baae13f07"
    },
    {
      "cell_type": "code",
      "execution_count": 27,
      "metadata": {},
      "outputs": [],
      "source": [
        "from sklearn.metrics import confusion_matrix\n",
        "\n",
        "# compute confusion matrix\n",
        "cm = confusion_matrix(df[\"k\"], df[\"k_hat\"])\n",
        "\n",
        "# plot confusion matrix\n",
        "sns.heatmap(cm, annot=True, cmap='Blues')\n",
        "plt.xlabel('Predicted k')\n",
        "plt.ylabel('True k')\n",
        "plt.title('Confusion Matrix for K-Means Clustering')\n",
        "plt.show()"
      ],
      "id": "71d40fe7-228a-4645-9ddd-2f4a7d76980e"
    },
    {
      "cell_type": "markdown",
      "metadata": {},
      "source": [
        "## Confusion Matrix"
      ],
      "id": "c69526b8-b21b-4cce-b1b9-7c6fbc429a4d"
    },
    {
      "cell_type": "code",
      "execution_count": 28,
      "metadata": {},
      "outputs": [
        {
          "output_type": "display_data",
          "metadata": {},
          "data": {
            "image/png": "[encoded data removed]"
          }
        }
      ],
      "source": [
        "from sklearn.metrics import confusion_matrix\n",
        "\n",
        "# compute confusion matrix\n",
        "cm = confusion_matrix(df[\"k\"], df[\"k_hat\"])\n",
        "\n",
        "# plot confusion matrix\n",
        "sns.heatmap(cm, annot=True, cmap='Blues')\n",
        "plt.xlabel('Predicted Labels')\n",
        "plt.ylabel('True Labels')\n",
        "plt.title('Confusion Matrix for K-Means Clustering')\n",
        "plt.show()"
      ],
      "id": "83b55f3d-981e-4fff-bb5b-7abd70833cd8"
    },
    {
      "cell_type": "markdown",
      "metadata": {},
      "source": [
        "## Potentially Swap $\\hat{k}$ and Compare\n",
        "\n",
        "Label ordering arbitary, so “confusion matrix might require reordering\n",
        "to compare"
      ],
      "id": "43d025fa-9249-4220-b056-7f67b00c5b2e"
    },
    {
      "cell_type": "code",
      "execution_count": 29,
      "metadata": {},
      "outputs": [
        {
          "output_type": "stream",
          "name": "stdout",
          "text": [
            "Correlation now 0.8300415031127591"
          ]
        }
      ],
      "source": [
        "if df['k'].corr(df['k_hat']) < 0.5:\n",
        "  df['k_hat'] = df['k_hat'].replace({1: 2, 2: 1})\n",
        "  print(f\"Correlation now {df['k'].corr(df['k_hat'])}\")\n",
        "\n",
        "df['Cluster'] = df.apply(lambda x: rf\"$k=\\hat{{k}}={{{x['k']:.0g}}}$\"\n",
        "                         if x['k'] == x['k_hat'] else r'$k \\neq \\hat{k}$',\n",
        "                         axis=1)"
      ],
      "id": "3d7ad39d-a5cc-478d-a048-9a05bba7e9fe"
    },
    {
      "cell_type": "markdown",
      "metadata": {},
      "source": [
        "## Plotting the Uncovered Latent Groups"
      ],
      "id": "e05bef6d-ee6a-4d78-9ebb-66572bf2d498"
    },
    {
      "cell_type": "code",
      "execution_count": 30,
      "metadata": {},
      "outputs": [],
      "source": [
        "fig, ax = plt.subplots(figsize=(6, 4))\n",
        "sns.scatterplot(data=df, x=\"f1\", y=\"f2\", hue=\"Cluster\", ax=ax)\n",
        "ax.set(xlabel=\"Feature 1\", ylabel=\"Feature 2\",\\\n",
        "       title=\"k-means Recovered Groups\")\n",
        "plt.show()"
      ],
      "id": "8bfa8876-2dbd-414a-90db-977a0f1f0c96"
    },
    {
      "cell_type": "markdown",
      "metadata": {},
      "source": [
        "## Plotting the Uncovered Latent Groups"
      ],
      "id": "16114bda-b9e7-40fa-ae4c-86ae6068b135"
    },
    {
      "cell_type": "code",
      "execution_count": 31,
      "metadata": {},
      "outputs": [
        {
          "output_type": "display_data",
          "metadata": {},
          "data": {
            "image/png": "[encoded data removed]"
          }
        }
      ],
      "source": [
        "fig, ax = plt.subplots(figsize=(6, 4))\n",
        "sns.scatterplot(data=df, x=\"f1\", y=\"f2\", hue=\"Cluster\", ax=ax)\n",
        "\n",
        "ax.set(xlabel=\"Feature 1\", ylabel=\"Feature 2\", title=\"k-means Recovered Groups\")\n",
        "plt.show()"
      ],
      "id": "2a4341a7-9f05-4ddc-8968-cf083138c8c3"
    },
    {
      "cell_type": "markdown",
      "metadata": {},
      "source": [
        "# (Optional) Matrix Conditioning and Stability\n",
        "\n",
        "## Matrix Conditioning\n",
        "\n",
        "-   Poorly conditioned matrices can lead to inaccurate or wrong\n",
        "    solutions\n",
        "-   Tends to happen when matrices are close to singular or when they\n",
        "    have very different scales - so there will be times when you need to\n",
        "    rescale your problems"
      ],
      "id": "c2d4dbb2-9bcb-4113-9b7a-cb13b9cf7fc4"
    },
    {
      "cell_type": "code",
      "execution_count": 32,
      "metadata": {},
      "outputs": [
        {
          "output_type": "stream",
          "name": "stdout",
          "text": [
            "A =\n",
            "[[1.        1.       ]\n",
            " [1.0000001 1.       ]]\n",
            "A^-1 =\n",
            "[[-9999999.99336215  9999999.99336215]\n",
            " [10000000.99336215 -9999999.99336215]]"
          ]
        }
      ],
      "source": [
        "eps = 1e-7\n",
        "A = np.array([[1, 1], [1 + eps, 1]])\n",
        "print(f\"A =\\n{A}\")\n",
        "print(f\"A^{-1} =\\n{inv(A)}\")"
      ],
      "id": "025ab4e0-5406-41c2-a1a1-333f549530ef"
    },
    {
      "cell_type": "markdown",
      "metadata": {},
      "source": [
        "## Condition Numbers of Matrices\n",
        "\n",
        "-   $\\det(A) \\approx 0$ may say it is “almost” singular, but it is not\n",
        "    scale-invariant\n",
        "-   $\\text{cond}(A) \\equiv ||A|| \\cdot ||A^{-1}||$ where $||\\cdot||$ is\n",
        "    the matrix norm - expensive to calculate in practice. Connected to\n",
        "    eigenvalues $\\text{cond}(A) = |\\frac{\\lambda_{max}}{\\lambda_{min}}|$\n",
        "-   Scale free measure of numerical issues for a variety of matrix\n",
        "    operations\n",
        "-   Intuition: if $\\text{cond}(A) = K$, then $b \\to b + \\nabla b$ change\n",
        "    in $b$ amplifies to a $x \\to x + K \\nabla b$ error when solving\n",
        "    $A x = b$.\n",
        "-   See [Matlab Docs on\n",
        "    inv](https://www.mathworks.com/help/matlab/ref/inv.html#bu6sfy8-1)\n",
        "    for example, where `inv` is a bad idea due to poor conditioning"
      ],
      "id": "c76b56b0-5b53-49a2-b530-de84c81cbce6"
    },
    {
      "cell_type": "code",
      "execution_count": 33,
      "metadata": {},
      "outputs": [
        {
          "output_type": "stream",
          "name": "stdout",
          "text": [
            "condition(I) = 1.0\n",
            "condition(A) = 40000001.962777555, condition(A^(-1)) = 40000002.02779216"
          ]
        }
      ],
      "source": [
        "print(f\"condition(I) = {cond(np.eye(2))}\")\n",
        "print(f\"condition(A) = {cond(A)}, condition(A^(-1)) = {cond(inv(A))}\")"
      ],
      "id": "e5e3d268-4757-45b7-9e68-1f2f764f2ceb"
    },
    {
      "cell_type": "markdown",
      "metadata": {},
      "source": [
        "## Example with Interpolation\n",
        "\n",
        "-   Consider fitting data $x\\in\\mathbb{R}^{N+1}$ and\n",
        "    $y\\in\\mathbb{R}^{N+1}$ with an $N$-degree polynomial\n",
        "-   That is, find $c \\in \\mathbb{R}^{N+1}$ such that\n",
        "\n",
        "$$\n",
        "\\begin{aligned}\n",
        "c_0 + c_1 x_1 + c_2 x_1^2 + \\ldots + c_N x_1^N &= y_1\\\\\n",
        "\\dots &= \\dots\\\\\n",
        "c_0 + c_1 x_N + c_2 x_N^2 + \\ldots + c_N x_N^N &= y_N\\\\\n",
        "\\end{aligned}\n",
        "$$\n",
        "\n",
        "-   Which we can then use as $P(x) = \\sum_{n=0}^N c_n x^n$ to\n",
        "    interpolate between the points\n",
        "\n",
        "## Writing as a Linear System\n",
        "\n",
        "-   Define a matrix of all of the powers of the $x$ values\n",
        "\n",
        "$$\n",
        "A \\equiv \\begin{bmatrix}\n",
        "1 & x_0 & x_0^2 & \\ldots & x_0^N\\\\\n",
        "\\vdots & \\vdots &\\vdots & \\vdots & \\vdots\\\\\n",
        "1 & x_N & x_N^2 & \\ldots & x_N^N\n",
        "\\end{bmatrix}\n",
        "$$\n",
        "\n",
        "-   Then solve for $c$ as the solution to,\n",
        "\n",
        "$$\n",
        "A c = y\n",
        "$$\n",
        "\n",
        "-   Which we can solve using our tools. As long as $x_n$ are unique, it\n",
        "    is $A$ is invertible\n",
        "-   Let’s look at the numerical error here from the interpolation using\n",
        "    the inf-norm, i.e., $||x||_{\\infty} = \\max_n |x_n|$\n",
        "\n",
        "## Solving an Example"
      ],
      "id": "7825c833-b278-4872-9c9d-5f27f26ea998"
    },
    {
      "cell_type": "code",
      "execution_count": 34,
      "metadata": {},
      "outputs": [
        {
          "output_type": "stream",
          "name": "stdout",
          "text": [
            "error = 1.574562702444382e-11, error using inv(A) = 1.1932570487260818e-09\n",
            "cond(A) = 564652.3214000753"
          ]
        }
      ],
      "source": [
        "N = 5\n",
        "x = np.linspace(0.0, 10.0, N + 1)\n",
        "y = np.exp(x)  # example function to interpolate\n",
        "A = np.array([[x_i**n for n in range(N + 1)] for x_i in x])  # or np.vander\n",
        "c = solve(A, y)\n",
        "c_inv = inv(A) @ y\n",
        "print(f\"error = {norm(A @ c - y, np.inf)}, \\\n",
        "error using inv(A) = {norm(A @ c_inv - y, np.inf)}\")\n",
        "print(f\"cond(A) = {cond(A)}\")"
      ],
      "id": "fcda46d4-8eb5-4fb6-9688-75aeff2087f3"
    },
    {
      "cell_type": "markdown",
      "metadata": {},
      "source": [
        "## Things Getting Poorly Conditioned Quickly"
      ],
      "id": "a7f7a2fe-a372-46ce-9042-1712b9cbda05"
    },
    {
      "cell_type": "code",
      "execution_count": 35,
      "metadata": {},
      "outputs": [
        {
          "output_type": "stream",
          "name": "stdout",
          "text": [
            "error = 5.334186425898224e-10, error using inv(A) = 6.22717197984457e-06\n",
            "cond(A) = 4462824600234.486"
          ]
        }
      ],
      "source": [
        "N = 10\n",
        "x = np.linspace(0.0, 10.0, N + 1)\n",
        "y = np.exp(x)  # example function to interpolate\n",
        "A = np.array([[x_i**n for n in range(N + 1)] for x_i in x])  # or np.vander\n",
        "c = solve(A, y)\n",
        "c_inv = inv(A) @ y # Solving with inv(A) instead of solve(A, y)\n",
        "print(f\"error = {norm(A @ c - y, np.inf)}, \\\n",
        "error using inv(A) = {norm(A @ c_inv - y, np.inf)}\")\n",
        "print(f\"cond(A) = {cond(A)}\")"
      ],
      "id": "140d888a-daff-49ae-85ef-7d38a7d756ed"
    },
    {
      "cell_type": "markdown",
      "metadata": {},
      "source": [
        "## Matrix Inverses Fail Completely for $N = 20$"
      ],
      "id": "097a27dd-be6a-4144-a9e4-2952c093c9b5"
    },
    {
      "cell_type": "code",
      "execution_count": 36,
      "metadata": {},
      "outputs": [
        {
          "output_type": "stream",
          "name": "stdout",
          "text": [
            "error = 6.784830475226045e-10, error using inv(A) = 31732.823760853855\n",
            "cond(A) = 1.697e+24"
          ]
        },
        {
          "output_type": "stream",
          "name": "stderr",
          "text": [
            "C:\\Users\\jesse\\AppData\\Local\\Temp\\ipykernel_18616\\1043797195.py:5: LinAlgWarning:\n",
            "\n",
            "Ill-conditioned matrix (rcond=6.45105e-28): result may not be accurate.\n"
          ]
        }
      ],
      "source": [
        "N = 20\n",
        "x = np.linspace(0.0, 10.0, N + 1)\n",
        "y = np.exp(x)  # example function to interpolate\n",
        "A = np.array([[x_i**n for n in range(N + 1)] for x_i in x])  # or np.vander\n",
        "c = solve(A, y)\n",
        "c_inv = inv(A) @ y # Solving with inv(A) instead of solve(A, y)\n",
        "print(f\"error = {norm(A @ c - y, np.inf)}, \\\n",
        "error using inv(A) = {norm(A @ c_inv - y, np.inf)}\")\n",
        "print(f\"cond(A) = {cond(A):.4g}\")"
      ],
      "id": "498d4f7c-65fb-4a72-96a8-6675a5e88641"
    },
    {
      "cell_type": "markdown",
      "metadata": {},
      "source": [
        "## Moral of this Story\n",
        "\n",
        "-   Use `solve`, which is faster and can often solve ill-conditioned\n",
        "    problems. Rarely use `inv`, and only when you know the problem is\n",
        "    well-conditioned\n",
        "-   Check conditioning of matrices when doing numerical work as an\n",
        "    occasional diagnostic, as it is a good indicator of potential\n",
        "    problems and collinearity\n",
        "-   For approximation, never use a monomial basis for polynomials\n",
        "    -   Prefer polynomials like Chebyshev, which are designed to be as\n",
        "        orthogonal as possible"
      ],
      "id": "39b04329-e385-4d63-a2b6-cdccfab7e34a"
    },
    {
      "cell_type": "code",
      "execution_count": 37,
      "metadata": {},
      "outputs": [
        {
          "output_type": "stream",
          "name": "stdout",
          "text": [
            "cond(A) = 3.64e+09, cond(A_monimial) = 2.926e+18"
          ]
        }
      ],
      "source": [
        "N = 40\n",
        "x = np.linspace(-1, 1, N+1)  # Or any other range of x values\n",
        "A = np.array([[np.polynomial.Chebyshev.basis(n)(x_i) for n in range(N+1)] for x_i in x])\n",
        "A_monomial = np.array([[x_i**n for n in range(N + 1)] for x_i in x])  # or np.vander\n",
        "print(f\"cond(A) = {cond(A):.4g}, cond(A_monimial) = {cond(A_monomial):.4g}\")"
      ],
      "id": "9b6a0b66-1710-48cc-be5d-a191f8b4d3ca"
    }
  ],
  "nbformat": 4,
  "nbformat_minor": 5,
  "metadata": {
    "kernelspec": {
      "name": "python3",
      "display_name": "Python 3 (ipykernel)",
      "language": "python"
    },
    "language_info": {
      "name": "python",
      "codemirror_mode": {
        "name": "ipython",
        "version": "3"
      },
      "file_extension": ".py",
      "mimetype": "text/x-python",
      "nbconvert_exporter": "python",
      "pygments_lexer": "ipython3",
      "version": "3.9.12"
    }
  }
}